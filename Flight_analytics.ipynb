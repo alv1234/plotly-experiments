{
 "cells": [
  {
   "cell_type": "code",
   "execution_count": 1,
   "metadata": {},
   "outputs": [],
   "source": [
    "import plotly.express as px\n",
    "import pandas as pd\n",
    "import numpy as np\n",
    "\n",
    "df = pd.read_csv(\"./data/flight_crashed_output.csv\").dropna()"
   ]
  },
  {
   "cell_type": "code",
   "execution_count": 4,
   "metadata": {},
   "outputs": [
    {
     "data": {
      "text/plain": [
       "Date                            datetime64[ns]\n",
       "Route                                   object\n",
       "Start - Flughafen                       object\n",
       "Start-Flughafen_country_code            object\n",
       "Start-Flughafen_Code                    object\n",
       "Start-Flughafen_latitude                object\n",
       "Start-Flughafen_longitude               object\n",
       "Ziel - Flughafen                        object\n",
       "Ziel-Flughafen_country_code             object\n",
       "Zeiel-Flughafen_code                    object\n",
       "Ziel-Flughafen_latitude                 object\n",
       "Ziel-Flughafen_longitude                object\n",
       "Absturzland                             object\n",
       "Operator                                object\n",
       "Aboard                                   int64\n",
       "Fatalities                               int64\n",
       "dtype: object"
      ]
     },
     "execution_count": 4,
     "metadata": {},
     "output_type": "execute_result"
    }
   ],
   "source": [
    "df[\"Date\"]=pd.to_datetime(df[\"Date\"], format=\"%d.%m.%Y\")\n",
    "df.dtypes"
   ]
  },
  {
   "cell_type": "code",
   "execution_count": 5,
   "metadata": {},
   "outputs": [
    {
     "data": {
      "text/html": [
       "<div>\n",
       "<style scoped>\n",
       "    .dataframe tbody tr th:only-of-type {\n",
       "        vertical-align: middle;\n",
       "    }\n",
       "\n",
       "    .dataframe tbody tr th {\n",
       "        vertical-align: top;\n",
       "    }\n",
       "\n",
       "    .dataframe thead th {\n",
       "        text-align: right;\n",
       "    }\n",
       "</style>\n",
       "<table border=\"1\" class=\"dataframe\">\n",
       "  <thead>\n",
       "    <tr style=\"text-align: right;\">\n",
       "      <th></th>\n",
       "      <th>Absturzland</th>\n",
       "      <th>Aboard</th>\n",
       "      <th>Fatalities</th>\n",
       "    </tr>\n",
       "  </thead>\n",
       "  <tbody>\n",
       "    <tr>\n",
       "      <th>0</th>\n",
       "      <td>AFGHANISTAN</td>\n",
       "      <td>306</td>\n",
       "      <td>306</td>\n",
       "    </tr>\n",
       "    <tr>\n",
       "      <th>1</th>\n",
       "      <td>ANGOLA</td>\n",
       "      <td>124</td>\n",
       "      <td>118</td>\n",
       "    </tr>\n",
       "    <tr>\n",
       "      <th>2</th>\n",
       "      <td>ARGENTINA</td>\n",
       "      <td>236</td>\n",
       "      <td>156</td>\n",
       "    </tr>\n",
       "    <tr>\n",
       "      <th>3</th>\n",
       "      <td>AUSTRALIA</td>\n",
       "      <td>24</td>\n",
       "      <td>23</td>\n",
       "    </tr>\n",
       "    <tr>\n",
       "      <th>4</th>\n",
       "      <td>AUSTRIA</td>\n",
       "      <td>9</td>\n",
       "      <td>9</td>\n",
       "    </tr>\n",
       "    <tr>\n",
       "      <th>...</th>\n",
       "      <td>...</td>\n",
       "      <td>...</td>\n",
       "      <td>...</td>\n",
       "    </tr>\n",
       "    <tr>\n",
       "      <th>82</th>\n",
       "      <td>UZBEKISTAN</td>\n",
       "      <td>37</td>\n",
       "      <td>37</td>\n",
       "    </tr>\n",
       "    <tr>\n",
       "      <th>83</th>\n",
       "      <td>VENEZUELA</td>\n",
       "      <td>56</td>\n",
       "      <td>29</td>\n",
       "    </tr>\n",
       "    <tr>\n",
       "      <th>84</th>\n",
       "      <td>YEMEN</td>\n",
       "      <td>122</td>\n",
       "      <td>50</td>\n",
       "    </tr>\n",
       "    <tr>\n",
       "      <th>85</th>\n",
       "      <td>ZAMBIA</td>\n",
       "      <td>13</td>\n",
       "      <td>13</td>\n",
       "    </tr>\n",
       "    <tr>\n",
       "      <th>86</th>\n",
       "      <td>ZIMBABWE</td>\n",
       "      <td>6</td>\n",
       "      <td>6</td>\n",
       "    </tr>\n",
       "  </tbody>\n",
       "</table>\n",
       "<p>87 rows × 3 columns</p>\n",
       "</div>"
      ],
      "text/plain": [
       "    Absturzland  Aboard  Fatalities\n",
       "0   AFGHANISTAN     306         306\n",
       "1        ANGOLA     124         118\n",
       "2     ARGENTINA     236         156\n",
       "3     AUSTRALIA      24          23\n",
       "4       AUSTRIA       9           9\n",
       "..          ...     ...         ...\n",
       "82   UZBEKISTAN      37          37\n",
       "83    VENEZUELA      56          29\n",
       "84        YEMEN     122          50\n",
       "85       ZAMBIA      13          13\n",
       "86     ZIMBABWE       6           6\n",
       "\n",
       "[87 rows x 3 columns]"
      ]
     },
     "execution_count": 5,
     "metadata": {},
     "output_type": "execute_result"
    }
   ],
   "source": [
    "df = df.groupby(['Absturzland']).sum()\n",
    "df.reset_index(level=0, inplace=True)\n",
    "df"
   ]
  },
  {
   "cell_type": "code",
   "execution_count": 6,
   "metadata": {},
   "outputs": [],
   "source": [
    "from pycountry_convert import country_alpha2_to_continent_code, country_name_to_country_alpha2"
   ]
  },
  {
   "cell_type": "code",
   "execution_count": 7,
   "metadata": {},
   "outputs": [],
   "source": [
    "def get_countrycode(col):\n",
    "    try:\n",
    "        cn_a2_code =  country_name_to_country_alpha2(col, cn_name_format='upper')\n",
    "    except:\n",
    "        cn_a2_code = 'Unknown' \n",
    "    return (cn_a2_code)\n",
    "\n",
    "def get_continent(cn_a2_code):\n",
    "    try:\n",
    "        cn_continent = country_alpha2_to_continent_code(cn_a2_code)\n",
    "    except:\n",
    "        cn_continent = 'Unknown' \n",
    "    return (cn_continent)"
   ]
  },
  {
   "cell_type": "code",
   "execution_count": 8,
   "metadata": {},
   "outputs": [
    {
     "data": {
      "text/html": [
       "<div>\n",
       "<style scoped>\n",
       "    .dataframe tbody tr th:only-of-type {\n",
       "        vertical-align: middle;\n",
       "    }\n",
       "\n",
       "    .dataframe tbody tr th {\n",
       "        vertical-align: top;\n",
       "    }\n",
       "\n",
       "    .dataframe thead th {\n",
       "        text-align: right;\n",
       "    }\n",
       "</style>\n",
       "<table border=\"1\" class=\"dataframe\">\n",
       "  <thead>\n",
       "    <tr style=\"text-align: right;\">\n",
       "      <th></th>\n",
       "      <th>Absturzland</th>\n",
       "      <th>Aboard</th>\n",
       "      <th>Fatalities</th>\n",
       "      <th>countrycode</th>\n",
       "      <th>continent</th>\n",
       "    </tr>\n",
       "  </thead>\n",
       "  <tbody>\n",
       "    <tr>\n",
       "      <th>0</th>\n",
       "      <td>AFGHANISTAN</td>\n",
       "      <td>306</td>\n",
       "      <td>306</td>\n",
       "      <td>AF</td>\n",
       "      <td>AS</td>\n",
       "    </tr>\n",
       "    <tr>\n",
       "      <th>1</th>\n",
       "      <td>ANGOLA</td>\n",
       "      <td>124</td>\n",
       "      <td>118</td>\n",
       "      <td>AO</td>\n",
       "      <td>AF</td>\n",
       "    </tr>\n",
       "    <tr>\n",
       "      <th>2</th>\n",
       "      <td>ARGENTINA</td>\n",
       "      <td>236</td>\n",
       "      <td>156</td>\n",
       "      <td>AR</td>\n",
       "      <td>SA</td>\n",
       "    </tr>\n",
       "    <tr>\n",
       "      <th>3</th>\n",
       "      <td>AUSTRALIA</td>\n",
       "      <td>24</td>\n",
       "      <td>23</td>\n",
       "      <td>AU</td>\n",
       "      <td>OC</td>\n",
       "    </tr>\n",
       "    <tr>\n",
       "      <th>4</th>\n",
       "      <td>AUSTRIA</td>\n",
       "      <td>9</td>\n",
       "      <td>9</td>\n",
       "      <td>AT</td>\n",
       "      <td>EU</td>\n",
       "    </tr>\n",
       "  </tbody>\n",
       "</table>\n",
       "</div>"
      ],
      "text/plain": [
       "   Absturzland  Aboard  Fatalities countrycode continent\n",
       "0  AFGHANISTAN     306         306          AF        AS\n",
       "1       ANGOLA     124         118          AO        AF\n",
       "2    ARGENTINA     236         156          AR        SA\n",
       "3    AUSTRALIA      24          23          AU        OC\n",
       "4      AUSTRIA       9           9          AT        EU"
      ]
     },
     "execution_count": 8,
     "metadata": {},
     "output_type": "execute_result"
    }
   ],
   "source": [
    "df['countrycode'] = df['Absturzland'].apply(get_countrycode)\n",
    "df['continent'] = df['countrycode'].apply(get_continent)\n",
    "df.head()"
   ]
  },
  {
   "cell_type": "code",
   "execution_count": 9,
   "metadata": {},
   "outputs": [],
   "source": [
    "from geopy.geocoders import Nominatim"
   ]
  },
  {
   "cell_type": "code",
   "execution_count": 10,
   "metadata": {},
   "outputs": [
    {
     "name": "stderr",
     "output_type": "stream",
     "text": [
      "/Users/alessandro/opt/anaconda3/lib/python3.7/site-packages/ipykernel_launcher.py:1: DeprecationWarning: Using Nominatim with the default \"geopy/1.22.0\" `user_agent` is strongly discouraged, as it violates Nominatim's ToS https://operations.osmfoundation.org/policies/nominatim/ and may possibly cause 403 and 429 HTTP errors. Please specify a custom `user_agent` with `Nominatim(user_agent=\"my-application\")` or by overriding the default `user_agent`: `geopy.geocoders.options.default_user_agent = \"my-application\"`. In geopy 2.0 this will become an exception.\n",
      "  \"\"\"Entry point for launching an IPython kernel.\n"
     ]
    }
   ],
   "source": [
    "geolocator = Nominatim()\n",
    "\n",
    "def geolocate(country):\n",
    "    try:\n",
    "        # Geolocate the center of the country\n",
    "        loc = geolocator.geocode(country)\n",
    "        # And return latitude and longitude\n",
    "        return (loc.latitude, loc.longitude)\n",
    "    except:\n",
    "        # Return missing value\n",
    "        return np.nan"
   ]
  },
  {
   "cell_type": "code",
   "execution_count": 11,
   "metadata": {},
   "outputs": [],
   "source": [
    "df['geolocate'] = df['countrycode'].apply(geolocate)"
   ]
  },
  {
   "cell_type": "code",
   "execution_count": 12,
   "metadata": {},
   "outputs": [
    {
     "data": {
      "text/html": [
       "<div>\n",
       "<style scoped>\n",
       "    .dataframe tbody tr th:only-of-type {\n",
       "        vertical-align: middle;\n",
       "    }\n",
       "\n",
       "    .dataframe tbody tr th {\n",
       "        vertical-align: top;\n",
       "    }\n",
       "\n",
       "    .dataframe thead th {\n",
       "        text-align: right;\n",
       "    }\n",
       "</style>\n",
       "<table border=\"1\" class=\"dataframe\">\n",
       "  <thead>\n",
       "    <tr style=\"text-align: right;\">\n",
       "      <th></th>\n",
       "      <th>Absturzland</th>\n",
       "      <th>Aboard</th>\n",
       "      <th>Fatalities</th>\n",
       "      <th>countrycode</th>\n",
       "      <th>continent</th>\n",
       "      <th>geolocate</th>\n",
       "      <th>absturz-lat</th>\n",
       "      <th>absturz-lon</th>\n",
       "    </tr>\n",
       "  </thead>\n",
       "  <tbody>\n",
       "    <tr>\n",
       "      <th>0</th>\n",
       "      <td>AFGHANISTAN</td>\n",
       "      <td>306</td>\n",
       "      <td>306</td>\n",
       "      <td>AF</td>\n",
       "      <td>AS</td>\n",
       "      <td>(33.7680065, 66.2385139)</td>\n",
       "      <td>33.768006</td>\n",
       "      <td>66.238514</td>\n",
       "    </tr>\n",
       "    <tr>\n",
       "      <th>1</th>\n",
       "      <td>ANGOLA</td>\n",
       "      <td>124</td>\n",
       "      <td>118</td>\n",
       "      <td>AO</td>\n",
       "      <td>AF</td>\n",
       "      <td>(47.2000338, 13.199959)</td>\n",
       "      <td>47.200034</td>\n",
       "      <td>13.199959</td>\n",
       "    </tr>\n",
       "    <tr>\n",
       "      <th>2</th>\n",
       "      <td>ARGENTINA</td>\n",
       "      <td>236</td>\n",
       "      <td>156</td>\n",
       "      <td>AR</td>\n",
       "      <td>SA</td>\n",
       "      <td>(-34.9964963, -64.9672817)</td>\n",
       "      <td>-34.996496</td>\n",
       "      <td>-64.967282</td>\n",
       "    </tr>\n",
       "    <tr>\n",
       "      <th>3</th>\n",
       "      <td>AUSTRALIA</td>\n",
       "      <td>24</td>\n",
       "      <td>23</td>\n",
       "      <td>AU</td>\n",
       "      <td>OC</td>\n",
       "      <td>(-24.7761086, 134.755)</td>\n",
       "      <td>-24.776109</td>\n",
       "      <td>134.755000</td>\n",
       "    </tr>\n",
       "    <tr>\n",
       "      <th>4</th>\n",
       "      <td>AUSTRIA</td>\n",
       "      <td>9</td>\n",
       "      <td>9</td>\n",
       "      <td>AT</td>\n",
       "      <td>EU</td>\n",
       "      <td>(47.2000338, 13.199959)</td>\n",
       "      <td>47.200034</td>\n",
       "      <td>13.199959</td>\n",
       "    </tr>\n",
       "  </tbody>\n",
       "</table>\n",
       "</div>"
      ],
      "text/plain": [
       "   Absturzland  Aboard  Fatalities countrycode continent  \\\n",
       "0  AFGHANISTAN     306         306          AF        AS   \n",
       "1       ANGOLA     124         118          AO        AF   \n",
       "2    ARGENTINA     236         156          AR        SA   \n",
       "3    AUSTRALIA      24          23          AU        OC   \n",
       "4      AUSTRIA       9           9          AT        EU   \n",
       "\n",
       "                    geolocate  absturz-lat  absturz-lon  \n",
       "0    (33.7680065, 66.2385139)    33.768006    66.238514  \n",
       "1     (47.2000338, 13.199959)    47.200034    13.199959  \n",
       "2  (-34.9964963, -64.9672817)   -34.996496   -64.967282  \n",
       "3      (-24.7761086, 134.755)   -24.776109   134.755000  \n",
       "4     (47.2000338, 13.199959)    47.200034    13.199959  "
      ]
     },
     "execution_count": 12,
     "metadata": {},
     "output_type": "execute_result"
    }
   ],
   "source": [
    "# new data frame with split value columns \n",
    "new = pd.DataFrame(df['geolocate'].tolist(), index=df.index)\n",
    "\n",
    "# making separate first name column from new data frame \n",
    "df[\"absturz-lat\"]= new[0]\n",
    "  \n",
    "# making separate last name column from new data frame \n",
    "df[\"absturz-lon\"]= new[1]\n",
    "\n",
    "df.head()"
   ]
  },
  {
   "cell_type": "code",
   "execution_count": 329,
   "metadata": {},
   "outputs": [
    {
     "data": {
      "application/vnd.plotly.v1+json": {
       "config": {
        "plotlyServerURL": "https://plot.ly"
       },
       "data": [
        {
         "geo": "geo",
         "hovertemplate": "<b>%{hovertext}</b><br><br>continent=AS<br>Fatalities=%{marker.size}<br>absturz-lat=%{lat}<br>absturz-lon=%{lon}<extra></extra>",
         "hovertext": [
          "AFGHANISTAN",
          "AZERBAIJAN",
          "BANGLADESH",
          "CAMBODIA",
          "CHINA",
          "GEORGIA",
          "HONG KONG",
          "INDIA",
          "INDONESIA",
          "IRAN",
          "JAPAN",
          "KAZAKHSTAN",
          "LAOS",
          "MALAYSIA",
          "MYANMAR",
          "NEPAL",
          "PAKISTAN",
          "PHILIPPINES",
          "SAUDI ARABIA",
          "TAIWAN",
          "THAILAND",
          "TURKEY",
          "UNITED ARAB EMIRATES",
          "UZBEKISTAN",
          "YEMEN"
         ],
         "lat": [
          33.7680065,
          40.3936294,
          24.4768783,
          13.5066394,
          35.000074,
          41.6809707,
          22.350627,
          null,
          -2.4833826,
          32.6475314,
          36.5748441,
          47.2286086,
          null,
          39.7837304,
          17.1750495,
          28.1083929,
          30.3308401,
          12.7503486,
          36.638392,
          23.9739374,
          50.7333163,
          38.9597594,
          40.7696272,
          41.32373,
          16.3471243
         ],
         "legendgroup": "AS",
         "lon": [
          66.2385139,
          47.7872508,
          90.2932426,
          104.869423,
          104.999927,
          44.0287382,
          114.1849161,
          null,
          117.8902853,
          54.5643516,
          139.2394179,
          65.2093197,
          null,
          -100.4458825,
          95.9999652,
          84.0917139,
          71.247499,
          122.7312101,
          127.6961188,
          120.9820179,
          11.0747905,
          34.9249653,
          44.6736646,
          63.9528098,
          47.8915271
         ],
         "marker": {
          "color": "#636efa",
          "size": [
           306,
           23,
           49,
           22,
           44,
           24,
           7,
           187,
           81,
           661,
           549,
           27,
           57,
           50,
           235,
           209,
           24,
           4,
           1,
           58,
           83,
           16,
           93,
           37,
           50
          ],
          "sizemode": "area",
          "sizeref": 2.0225
         },
         "name": "AS",
         "showlegend": true,
         "type": "scattergeo",
         "visible": "legendonly"
        },
        {
         "geo": "geo",
         "hovertemplate": "<b>%{hovertext}</b><br><br>continent=AF<br>Fatalities=%{marker.size}<br>absturz-lat=%{lat}<br>absturz-lon=%{lon}<extra></extra>",
         "hovertext": [
          "ANGOLA",
          "BENIN",
          "CAMEROON",
          "EGYPT",
          "ERITREA",
          "ETHIOPIA",
          "GABON",
          "GHANA",
          "IVORY COAST",
          "LIBERIA",
          "MADAGASCAR",
          "MAURITANIA",
          "MOROCCO",
          "MOZAMBIQUE",
          "NIGERIA",
          "RWANDA",
          "SOUTH AFRICA",
          "SUDAN",
          "TANZANIA",
          "UGANDA",
          "ZAMBIA",
          "ZIMBABWE"
         ],
         "lat": [
          47.2000338,
          9.5293472,
          4.6125522,
          26.2540493,
          52.865196,
          null,
          -0.8999695,
          8.0300284,
          7.9897371,
          5.7499721,
          -18.7561349,
          20.2540382,
          41.8933203,
          -19.302233,
          9.6000359,
          -1.9646631,
          -28.8166236,
          14.5844444,
          -6.5247123,
          1.5333554,
          -14.5186239,
          -18.4554963
         ],
         "legendgroup": "AF",
         "lon": [
          13.199959,
          2.2584408,
          13.1535811,
          29.2675469,
          -7.9794599,
          null,
          11.6899699,
          -1.0800271,
          -5.5679458,
          -9.3658524,
          46.597324043086644,
          -9.2399263,
          12.4829321,
          34.9144977,
          7.9999721,
          30.0644358,
          24.991639,
          29.4917691,
          35.7878438,
          32.2166578,
          27.5599164,
          29.7468414
         ],
         "marker": {
          "color": "#EF553B",
          "size": [
           118,
           140,
           5,
           175,
           10,
           35,
           3,
           7,
           220,
           2,
           32,
           80,
           80,
           115,
           809,
           1,
           46,
           216,
           18,
           4,
           13,
           6
          ],
          "sizemode": "area",
          "sizeref": 2.0225
         },
         "name": "AF",
         "showlegend": true,
         "type": "scattergeo",
         "visible": true
        },
        {
         "geo": "geo",
         "hovertemplate": "<b>%{hovertext}</b><br><br>continent=SA<br>Fatalities=%{marker.size}<br>absturz-lat=%{lat}<br>absturz-lon=%{lon}<extra></extra>",
         "hovertext": [
          "ARGENTINA",
          "BOLIVIA",
          "BRAZIL",
          "COLOMBIA",
          "ECUADOR",
          "PARAGUAY",
          "PERU",
          "VENEZUELA"
         ],
         "lat": [
          -34.9964963,
          -17.0568696,
          -10.3333333,
          2.8894434,
          -1.3397668,
          -23.3165935,
          -6.8699697,
          8.0018709
         ],
         "legendgroup": "SA",
         "lon": [
          -64.9672817,
          -64.9912286,
          -53.2,
          -73.783892,
          -79.3666965,
          -58.1693445,
          -75.0458515,
          -66.1109318
         ],
         "marker": {
          "color": "#00cc96",
          "size": [
           156,
           8,
           54,
           8,
           22,
           4,
           92,
           29
          ],
          "sizemode": "area",
          "sizeref": 2.0225
         },
         "name": "SA",
         "showlegend": true,
         "type": "scattergeo",
         "visible": "legendonly"
        },
        {
         "geo": "geo",
         "hovertemplate": "<b>%{hovertext}</b><br><br>continent=OC<br>Fatalities=%{marker.size}<br>absturz-lat=%{lat}<br>absturz-lon=%{lon}<extra></extra>",
         "hovertext": [
          "AUSTRALIA",
          "FIJI",
          "MICRONESIA",
          "NEW ZEALAND",
          "PAPUA NEW GUINEA"
         ],
         "lat": [
          -24.7761086,
          -18.1239696,
          43.0922489,
          -41.5000831,
          -5.6816069
         ],
         "legendgroup": "OC",
         "lon": [
          134.755,
          179.0122737,
          13.638768067263769,
          172.8344077,
          144.2489081
         ],
         "marker": {
          "color": "#ab63fa",
          "size": [
           23,
           17,
           1,
           37,
           116
          ],
          "sizemode": "area",
          "sizeref": 2.0225
         },
         "name": "OC",
         "showlegend": true,
         "type": "scattergeo",
         "visible": "legendonly"
        },
        {
         "geo": "geo",
         "hovertemplate": "<b>%{hovertext}</b><br><br>continent=EU<br>Fatalities=%{marker.size}<br>absturz-lat=%{lat}<br>absturz-lon=%{lon}<extra></extra>",
         "hovertext": [
          "AUSTRIA",
          "BOSNIA AND HERZEGOVINA",
          "BULGARIA",
          "CZECH REPUBLIC",
          "ESTONIA",
          "FRANCE",
          "GERMANY",
          "GREECE",
          "IRELAND",
          "ITALY",
          "MACEDONIA",
          "MALTA",
          "NETHERLANDS",
          "ROMANIA",
          "RUSSIA",
          "SPAIN",
          "SWITZERLAND",
          "UKRAINE",
          "UNITED KINGDOM"
         ],
         "lat": [
          47.2000338,
          48.8566969,
          42.6073975,
          49.8167003,
          58.71971295,
          46.603354,
          51.0834196,
          38.9953683,
          52.865196,
          42.6384261,
          41.6171214,
          35.8885993,
          52.5001698,
          45.9852129,
          64.6863136,
          39.3262345,
          46.7985624,
          49.4871968,
          54.7023545
         ],
         "legendgroup": "EU",
         "lon": [
          13.199959,
          2.3514616,
          25.4856617,
          15.4749544,
          24.507544106789936,
          1.8883335,
          10.4234469,
          21.9877132,
          -7.9794599,
          12.674297,
          21.7168387,
          14.4476911,
          5.7480821,
          24.6859225,
          97.7453061,
          -4.8380649,
          8.2319736,
          31.2718321,
          -3.2765753
         ],
         "marker": {
          "color": "#FFA15A",
          "size": [
           9,
           9,
           29,
           2,
           16,
           175,
           10,
           104,
           6,
           9,
           83,
           60,
           17,
           12,
           423,
           7,
           10,
           5,
           62
          ],
          "sizemode": "area",
          "sizeref": 2.0225
         },
         "name": "EU",
         "showlegend": true,
         "type": "scattergeo",
         "visible": "legendonly"
        },
        {
         "geo": "geo",
         "hovertemplate": "<b>%{hovertext}</b><br><br>continent=NA<br>Fatalities=%{marker.size}<br>absturz-lat=%{lat}<br>absturz-lon=%{lon}<extra></extra>",
         "hovertext": [
          "CANADA",
          "COSTA RICA",
          "GUATEMALA",
          "HONDURAS",
          "MEXICO",
          "USA"
         ],
         "lat": [
          61.0666922,
          45.22086405,
          32.3293809,
          15.2572432,
          22.5000485,
          39.7837304
         ],
         "legendgroup": "NA",
         "lon": [
          -107.9917071,
          10.037037979628856,
          -83.1137366,
          -86.0755145,
          -100.0000375,
          -100.4458825
         ],
         "marker": {
          "color": "#19d3f3",
          "size": [
           77,
           40,
           11,
           3,
           80,
           181
          ],
          "sizemode": "area",
          "sizeref": 2.0225
         },
         "name": "NA",
         "showlegend": true,
         "type": "scattergeo",
         "visible": "legendonly"
        },
        {
         "geo": "geo",
         "hovertemplate": "<b>%{hovertext}</b><br><br>continent=Unknown<br>Fatalities=%{marker.size}<br>absturz-lat=%{lat}<br>absturz-lon=%{lon}<extra></extra>",
         "hovertext": [
          "Congo (Brazzaville)",
          "EAST TIMOR"
         ],
         "lat": [
          6.402589949999999,
          -8.5151979
         ],
         "legendgroup": "Unknown",
         "lon": [
          43.398382018489485,
          125.8375756
         ],
         "marker": {
          "color": "#FF6692",
          "size": [
           97,
           6
          ],
          "sizemode": "area",
          "sizeref": 2.0225
         },
         "name": "Unknown",
         "showlegend": true,
         "type": "scattergeo",
         "visible": "legendonly"
        }
       ],
       "layout": {
        "autosize": true,
        "geo": {
         "center": {
          "lat": -4.977968570492873,
          "lon": 55.136949565012294
         },
         "domain": {
          "x": [
           0,
           1
          ],
          "y": [
           0,
           1
          ]
         },
         "projection": {
          "rotation": {
           "lon": 55.136949565012294
          },
          "scale": 0.7208876192299984,
          "type": "natural earth"
         }
        },
        "legend": {
         "itemsizing": "constant",
         "title": {
          "text": "continent"
         },
         "tracegroupgap": 0
        },
        "margin": {
         "t": 60
        },
        "template": {
         "data": {
          "bar": [
           {
            "error_x": {
             "color": "#2a3f5f"
            },
            "error_y": {
             "color": "#2a3f5f"
            },
            "marker": {
             "line": {
              "color": "#E5ECF6",
              "width": 0.5
             }
            },
            "type": "bar"
           }
          ],
          "barpolar": [
           {
            "marker": {
             "line": {
              "color": "#E5ECF6",
              "width": 0.5
             }
            },
            "type": "barpolar"
           }
          ],
          "carpet": [
           {
            "aaxis": {
             "endlinecolor": "#2a3f5f",
             "gridcolor": "white",
             "linecolor": "white",
             "minorgridcolor": "white",
             "startlinecolor": "#2a3f5f"
            },
            "baxis": {
             "endlinecolor": "#2a3f5f",
             "gridcolor": "white",
             "linecolor": "white",
             "minorgridcolor": "white",
             "startlinecolor": "#2a3f5f"
            },
            "type": "carpet"
           }
          ],
          "choropleth": [
           {
            "colorbar": {
             "outlinewidth": 0,
             "ticks": ""
            },
            "type": "choropleth"
           }
          ],
          "contour": [
           {
            "colorbar": {
             "outlinewidth": 0,
             "ticks": ""
            },
            "colorscale": [
             [
              0,
              "#0d0887"
             ],
             [
              0.1111111111111111,
              "#46039f"
             ],
             [
              0.2222222222222222,
              "#7201a8"
             ],
             [
              0.3333333333333333,
              "#9c179e"
             ],
             [
              0.4444444444444444,
              "#bd3786"
             ],
             [
              0.5555555555555556,
              "#d8576b"
             ],
             [
              0.6666666666666666,
              "#ed7953"
             ],
             [
              0.7777777777777778,
              "#fb9f3a"
             ],
             [
              0.8888888888888888,
              "#fdca26"
             ],
             [
              1,
              "#f0f921"
             ]
            ],
            "type": "contour"
           }
          ],
          "contourcarpet": [
           {
            "colorbar": {
             "outlinewidth": 0,
             "ticks": ""
            },
            "type": "contourcarpet"
           }
          ],
          "heatmap": [
           {
            "colorbar": {
             "outlinewidth": 0,
             "ticks": ""
            },
            "colorscale": [
             [
              0,
              "#0d0887"
             ],
             [
              0.1111111111111111,
              "#46039f"
             ],
             [
              0.2222222222222222,
              "#7201a8"
             ],
             [
              0.3333333333333333,
              "#9c179e"
             ],
             [
              0.4444444444444444,
              "#bd3786"
             ],
             [
              0.5555555555555556,
              "#d8576b"
             ],
             [
              0.6666666666666666,
              "#ed7953"
             ],
             [
              0.7777777777777778,
              "#fb9f3a"
             ],
             [
              0.8888888888888888,
              "#fdca26"
             ],
             [
              1,
              "#f0f921"
             ]
            ],
            "type": "heatmap"
           }
          ],
          "heatmapgl": [
           {
            "colorbar": {
             "outlinewidth": 0,
             "ticks": ""
            },
            "colorscale": [
             [
              0,
              "#0d0887"
             ],
             [
              0.1111111111111111,
              "#46039f"
             ],
             [
              0.2222222222222222,
              "#7201a8"
             ],
             [
              0.3333333333333333,
              "#9c179e"
             ],
             [
              0.4444444444444444,
              "#bd3786"
             ],
             [
              0.5555555555555556,
              "#d8576b"
             ],
             [
              0.6666666666666666,
              "#ed7953"
             ],
             [
              0.7777777777777778,
              "#fb9f3a"
             ],
             [
              0.8888888888888888,
              "#fdca26"
             ],
             [
              1,
              "#f0f921"
             ]
            ],
            "type": "heatmapgl"
           }
          ],
          "histogram": [
           {
            "marker": {
             "colorbar": {
              "outlinewidth": 0,
              "ticks": ""
             }
            },
            "type": "histogram"
           }
          ],
          "histogram2d": [
           {
            "colorbar": {
             "outlinewidth": 0,
             "ticks": ""
            },
            "colorscale": [
             [
              0,
              "#0d0887"
             ],
             [
              0.1111111111111111,
              "#46039f"
             ],
             [
              0.2222222222222222,
              "#7201a8"
             ],
             [
              0.3333333333333333,
              "#9c179e"
             ],
             [
              0.4444444444444444,
              "#bd3786"
             ],
             [
              0.5555555555555556,
              "#d8576b"
             ],
             [
              0.6666666666666666,
              "#ed7953"
             ],
             [
              0.7777777777777778,
              "#fb9f3a"
             ],
             [
              0.8888888888888888,
              "#fdca26"
             ],
             [
              1,
              "#f0f921"
             ]
            ],
            "type": "histogram2d"
           }
          ],
          "histogram2dcontour": [
           {
            "colorbar": {
             "outlinewidth": 0,
             "ticks": ""
            },
            "colorscale": [
             [
              0,
              "#0d0887"
             ],
             [
              0.1111111111111111,
              "#46039f"
             ],
             [
              0.2222222222222222,
              "#7201a8"
             ],
             [
              0.3333333333333333,
              "#9c179e"
             ],
             [
              0.4444444444444444,
              "#bd3786"
             ],
             [
              0.5555555555555556,
              "#d8576b"
             ],
             [
              0.6666666666666666,
              "#ed7953"
             ],
             [
              0.7777777777777778,
              "#fb9f3a"
             ],
             [
              0.8888888888888888,
              "#fdca26"
             ],
             [
              1,
              "#f0f921"
             ]
            ],
            "type": "histogram2dcontour"
           }
          ],
          "mesh3d": [
           {
            "colorbar": {
             "outlinewidth": 0,
             "ticks": ""
            },
            "type": "mesh3d"
           }
          ],
          "parcoords": [
           {
            "line": {
             "colorbar": {
              "outlinewidth": 0,
              "ticks": ""
             }
            },
            "type": "parcoords"
           }
          ],
          "pie": [
           {
            "automargin": true,
            "type": "pie"
           }
          ],
          "scatter": [
           {
            "marker": {
             "colorbar": {
              "outlinewidth": 0,
              "ticks": ""
             }
            },
            "type": "scatter"
           }
          ],
          "scatter3d": [
           {
            "line": {
             "colorbar": {
              "outlinewidth": 0,
              "ticks": ""
             }
            },
            "marker": {
             "colorbar": {
              "outlinewidth": 0,
              "ticks": ""
             }
            },
            "type": "scatter3d"
           }
          ],
          "scattercarpet": [
           {
            "marker": {
             "colorbar": {
              "outlinewidth": 0,
              "ticks": ""
             }
            },
            "type": "scattercarpet"
           }
          ],
          "scattergeo": [
           {
            "marker": {
             "colorbar": {
              "outlinewidth": 0,
              "ticks": ""
             }
            },
            "type": "scattergeo"
           }
          ],
          "scattergl": [
           {
            "marker": {
             "colorbar": {
              "outlinewidth": 0,
              "ticks": ""
             }
            },
            "type": "scattergl"
           }
          ],
          "scattermapbox": [
           {
            "marker": {
             "colorbar": {
              "outlinewidth": 0,
              "ticks": ""
             }
            },
            "type": "scattermapbox"
           }
          ],
          "scatterpolar": [
           {
            "marker": {
             "colorbar": {
              "outlinewidth": 0,
              "ticks": ""
             }
            },
            "type": "scatterpolar"
           }
          ],
          "scatterpolargl": [
           {
            "marker": {
             "colorbar": {
              "outlinewidth": 0,
              "ticks": ""
             }
            },
            "type": "scatterpolargl"
           }
          ],
          "scatterternary": [
           {
            "marker": {
             "colorbar": {
              "outlinewidth": 0,
              "ticks": ""
             }
            },
            "type": "scatterternary"
           }
          ],
          "surface": [
           {
            "colorbar": {
             "outlinewidth": 0,
             "ticks": ""
            },
            "colorscale": [
             [
              0,
              "#0d0887"
             ],
             [
              0.1111111111111111,
              "#46039f"
             ],
             [
              0.2222222222222222,
              "#7201a8"
             ],
             [
              0.3333333333333333,
              "#9c179e"
             ],
             [
              0.4444444444444444,
              "#bd3786"
             ],
             [
              0.5555555555555556,
              "#d8576b"
             ],
             [
              0.6666666666666666,
              "#ed7953"
             ],
             [
              0.7777777777777778,
              "#fb9f3a"
             ],
             [
              0.8888888888888888,
              "#fdca26"
             ],
             [
              1,
              "#f0f921"
             ]
            ],
            "type": "surface"
           }
          ],
          "table": [
           {
            "cells": {
             "fill": {
              "color": "#EBF0F8"
             },
             "line": {
              "color": "white"
             }
            },
            "header": {
             "fill": {
              "color": "#C8D4E3"
             },
             "line": {
              "color": "white"
             }
            },
            "type": "table"
           }
          ]
         },
         "layout": {
          "annotationdefaults": {
           "arrowcolor": "#2a3f5f",
           "arrowhead": 0,
           "arrowwidth": 1
          },
          "coloraxis": {
           "colorbar": {
            "outlinewidth": 0,
            "ticks": ""
           }
          },
          "colorscale": {
           "diverging": [
            [
             0,
             "#8e0152"
            ],
            [
             0.1,
             "#c51b7d"
            ],
            [
             0.2,
             "#de77ae"
            ],
            [
             0.3,
             "#f1b6da"
            ],
            [
             0.4,
             "#fde0ef"
            ],
            [
             0.5,
             "#f7f7f7"
            ],
            [
             0.6,
             "#e6f5d0"
            ],
            [
             0.7,
             "#b8e186"
            ],
            [
             0.8,
             "#7fbc41"
            ],
            [
             0.9,
             "#4d9221"
            ],
            [
             1,
             "#276419"
            ]
           ],
           "sequential": [
            [
             0,
             "#0d0887"
            ],
            [
             0.1111111111111111,
             "#46039f"
            ],
            [
             0.2222222222222222,
             "#7201a8"
            ],
            [
             0.3333333333333333,
             "#9c179e"
            ],
            [
             0.4444444444444444,
             "#bd3786"
            ],
            [
             0.5555555555555556,
             "#d8576b"
            ],
            [
             0.6666666666666666,
             "#ed7953"
            ],
            [
             0.7777777777777778,
             "#fb9f3a"
            ],
            [
             0.8888888888888888,
             "#fdca26"
            ],
            [
             1,
             "#f0f921"
            ]
           ],
           "sequentialminus": [
            [
             0,
             "#0d0887"
            ],
            [
             0.1111111111111111,
             "#46039f"
            ],
            [
             0.2222222222222222,
             "#7201a8"
            ],
            [
             0.3333333333333333,
             "#9c179e"
            ],
            [
             0.4444444444444444,
             "#bd3786"
            ],
            [
             0.5555555555555556,
             "#d8576b"
            ],
            [
             0.6666666666666666,
             "#ed7953"
            ],
            [
             0.7777777777777778,
             "#fb9f3a"
            ],
            [
             0.8888888888888888,
             "#fdca26"
            ],
            [
             1,
             "#f0f921"
            ]
           ]
          },
          "colorway": [
           "#636efa",
           "#EF553B",
           "#00cc96",
           "#ab63fa",
           "#FFA15A",
           "#19d3f3",
           "#FF6692",
           "#B6E880",
           "#FF97FF",
           "#FECB52"
          ],
          "font": {
           "color": "#2a3f5f"
          },
          "geo": {
           "bgcolor": "white",
           "lakecolor": "white",
           "landcolor": "#E5ECF6",
           "showlakes": true,
           "showland": true,
           "subunitcolor": "white"
          },
          "hoverlabel": {
           "align": "left"
          },
          "hovermode": "closest",
          "mapbox": {
           "style": "light"
          },
          "paper_bgcolor": "white",
          "plot_bgcolor": "#E5ECF6",
          "polar": {
           "angularaxis": {
            "gridcolor": "white",
            "linecolor": "white",
            "ticks": ""
           },
           "bgcolor": "#E5ECF6",
           "radialaxis": {
            "gridcolor": "white",
            "linecolor": "white",
            "ticks": ""
           }
          },
          "scene": {
           "xaxis": {
            "backgroundcolor": "#E5ECF6",
            "gridcolor": "white",
            "gridwidth": 2,
            "linecolor": "white",
            "showbackground": true,
            "ticks": "",
            "zerolinecolor": "white"
           },
           "yaxis": {
            "backgroundcolor": "#E5ECF6",
            "gridcolor": "white",
            "gridwidth": 2,
            "linecolor": "white",
            "showbackground": true,
            "ticks": "",
            "zerolinecolor": "white"
           },
           "zaxis": {
            "backgroundcolor": "#E5ECF6",
            "gridcolor": "white",
            "gridwidth": 2,
            "linecolor": "white",
            "showbackground": true,
            "ticks": "",
            "zerolinecolor": "white"
           }
          },
          "shapedefaults": {
           "line": {
            "color": "#2a3f5f"
           }
          },
          "ternary": {
           "aaxis": {
            "gridcolor": "white",
            "linecolor": "white",
            "ticks": ""
           },
           "baxis": {
            "gridcolor": "white",
            "linecolor": "white",
            "ticks": ""
           },
           "bgcolor": "#E5ECF6",
           "caxis": {
            "gridcolor": "white",
            "linecolor": "white",
            "ticks": ""
           }
          },
          "title": {
           "x": 0.05
          },
          "xaxis": {
           "automargin": true,
           "gridcolor": "white",
           "linecolor": "white",
           "ticks": "",
           "title": {
            "standoff": 15
           },
           "zerolinecolor": "white",
           "zerolinewidth": 2
          },
          "yaxis": {
           "automargin": true,
           "gridcolor": "white",
           "linecolor": "white",
           "ticks": "",
           "title": {
            "standoff": 15
           },
           "zerolinecolor": "white",
           "zerolinewidth": 2
          }
         }
        },
        "title": {
         "font": {
          "size": 20
         },
         "text": "Airplane crash fatalities by country and continent"
        }
       }
      },
      "image/png": "[encoded data removed]",
      "text/html": [
       "<div>\n",
       "        \n",
       "        \n",
       "            <div id=\"3b463fc1-ec69-484e-ae16-15ee7b30895b\" class=\"plotly-graph-div\" style=\"height:525px; width:100%;\"></div>\n",
       "            <script type=\"text/javascript\">\n",
       "                require([\"plotly\"], function(Plotly) {\n",
       "                    window.PLOTLYENV=window.PLOTLYENV || {};\n",
       "                    \n",
       "                if (document.getElementById(\"3b463fc1-ec69-484e-ae16-15ee7b30895b\")) {\n",
       "                    Plotly.newPlot(\n",
       "                        '3b463fc1-ec69-484e-ae16-15ee7b30895b',\n",
       "                        [{\"geo\": \"geo\", \"hovertemplate\": \"<b>%{hovertext}</b><br><br>continent=AS<br>Fatalities=%{marker.size}<br>absturz-lat=%{lat}<br>absturz-lon=%{lon}<extra></extra>\", \"hovertext\": [\"AFGHANISTAN\", \"AZERBAIJAN\", \"BANGLADESH\", \"CAMBODIA\", \"CHINA\", \"GEORGIA\", \"HONG KONG\", \"INDIA\", \"INDONESIA\", \"IRAN\", \"JAPAN\", \"KAZAKHSTAN\", \"LAOS\", \"MALAYSIA\", \"MYANMAR\", \"NEPAL\", \"PAKISTAN\", \"PHILIPPINES\", \"SAUDI ARABIA\", \"TAIWAN\", \"THAILAND\", \"TURKEY\", \"UNITED ARAB EMIRATES\", \"UZBEKISTAN\", \"YEMEN\"], \"lat\": [33.7680065, 40.3936294, 24.4768783, 13.5066394, 35.000074, 41.6809707, 22.350627, null, -2.4833826, 32.6475314, 36.5748441, 47.2286086, null, 39.7837304, 17.1750495, 28.1083929, 30.3308401, 12.7503486, 36.638392, 23.9739374, 50.7333163, 38.9597594, 40.7696272, 41.32373, 16.3471243], \"legendgroup\": \"AS\", \"lon\": [66.2385139, 47.7872508, 90.2932426, 104.869423, 104.999927, 44.0287382, 114.1849161, null, 117.8902853, 54.5643516, 139.2394179, 65.2093197, null, -100.4458825, 95.9999652, 84.0917139, 71.247499, 122.7312101, 127.6961188, 120.9820179, 11.0747905, 34.9249653, 44.6736646, 63.9528098, 47.8915271], \"marker\": {\"color\": \"#636efa\", \"size\": [306, 23, 49, 22, 44, 24, 7, 187, 81, 661, 549, 27, 57, 50, 235, 209, 24, 4, 1, 58, 83, 16, 93, 37, 50], \"sizemode\": \"area\", \"sizeref\": 2.0225}, \"name\": \"AS\", \"showlegend\": true, \"type\": \"scattergeo\"}, {\"geo\": \"geo\", \"hovertemplate\": \"<b>%{hovertext}</b><br><br>continent=AF<br>Fatalities=%{marker.size}<br>absturz-lat=%{lat}<br>absturz-lon=%{lon}<extra></extra>\", \"hovertext\": [\"ANGOLA\", \"BENIN\", \"CAMEROON\", \"EGYPT\", \"ERITREA\", \"ETHIOPIA\", \"GABON\", \"GHANA\", \"IVORY COAST\", \"LIBERIA\", \"MADAGASCAR\", \"MAURITANIA\", \"MOROCCO\", \"MOZAMBIQUE\", \"NIGERIA\", \"RWANDA\", \"SOUTH AFRICA\", \"SUDAN\", \"TANZANIA\", \"UGANDA\", \"ZAMBIA\", \"ZIMBABWE\"], \"lat\": [47.2000338, 9.5293472, 4.6125522, 26.2540493, 52.865196, null, -0.8999695, 8.0300284, 7.9897371, 5.7499721, -18.7561349, 20.2540382, 41.8933203, -19.302233, 9.6000359, -1.9646631, -28.8166236, 14.5844444, -6.5247123, 1.5333554, -14.5186239, -18.4554963], \"legendgroup\": \"AF\", \"lon\": [13.199959, 2.2584408, 13.1535811, 29.2675469, -7.9794599, null, 11.6899699, -1.0800271, -5.5679458, -9.3658524, 46.597324043086644, -9.2399263, 12.4829321, 34.9144977, 7.9999721, 30.0644358, 24.991639, 29.4917691, 35.7878438, 32.2166578, 27.5599164, 29.7468414], \"marker\": {\"color\": \"#EF553B\", \"size\": [118, 140, 5, 175, 10, 35, 3, 7, 220, 2, 32, 80, 80, 115, 809, 1, 46, 216, 18, 4, 13, 6], \"sizemode\": \"area\", \"sizeref\": 2.0225}, \"name\": \"AF\", \"showlegend\": true, \"type\": \"scattergeo\"}, {\"geo\": \"geo\", \"hovertemplate\": \"<b>%{hovertext}</b><br><br>continent=SA<br>Fatalities=%{marker.size}<br>absturz-lat=%{lat}<br>absturz-lon=%{lon}<extra></extra>\", \"hovertext\": [\"ARGENTINA\", \"BOLIVIA\", \"BRAZIL\", \"COLOMBIA\", \"ECUADOR\", \"PARAGUAY\", \"PERU\", \"VENEZUELA\"], \"lat\": [-34.9964963, -17.0568696, -10.3333333, 2.8894434, -1.3397668, -23.3165935, -6.8699697, 8.0018709], \"legendgroup\": \"SA\", \"lon\": [-64.9672817, -64.9912286, -53.2, -73.783892, -79.3666965, -58.1693445, -75.0458515, -66.1109318], \"marker\": {\"color\": \"#00cc96\", \"size\": [156, 8, 54, 8, 22, 4, 92, 29], \"sizemode\": \"area\", \"sizeref\": 2.0225}, \"name\": \"SA\", \"showlegend\": true, \"type\": \"scattergeo\"}, {\"geo\": \"geo\", \"hovertemplate\": \"<b>%{hovertext}</b><br><br>continent=OC<br>Fatalities=%{marker.size}<br>absturz-lat=%{lat}<br>absturz-lon=%{lon}<extra></extra>\", \"hovertext\": [\"AUSTRALIA\", \"FIJI\", \"MICRONESIA\", \"NEW ZEALAND\", \"PAPUA NEW GUINEA\"], \"lat\": [-24.7761086, -18.1239696, 43.0922489, -41.5000831, -5.6816069], \"legendgroup\": \"OC\", \"lon\": [134.755, 179.0122737, 13.638768067263769, 172.8344077, 144.2489081], \"marker\": {\"color\": \"#ab63fa\", \"size\": [23, 17, 1, 37, 116], \"sizemode\": \"area\", \"sizeref\": 2.0225}, \"name\": \"OC\", \"showlegend\": true, \"type\": \"scattergeo\"}, {\"geo\": \"geo\", \"hovertemplate\": \"<b>%{hovertext}</b><br><br>continent=EU<br>Fatalities=%{marker.size}<br>absturz-lat=%{lat}<br>absturz-lon=%{lon}<extra></extra>\", \"hovertext\": [\"AUSTRIA\", \"BOSNIA AND HERZEGOVINA\", \"BULGARIA\", \"CZECH REPUBLIC\", \"ESTONIA\", \"FRANCE\", \"GERMANY\", \"GREECE\", \"IRELAND\", \"ITALY\", \"MACEDONIA\", \"MALTA\", \"NETHERLANDS\", \"ROMANIA\", \"RUSSIA\", \"SPAIN\", \"SWITZERLAND\", \"UKRAINE\", \"UNITED KINGDOM\"], \"lat\": [47.2000338, 48.8566969, 42.6073975, 49.8167003, 58.71971295, 46.603354, 51.0834196, 38.9953683, 52.865196, 42.6384261, 41.6171214, 35.8885993, 52.5001698, 45.9852129, 64.6863136, 39.3262345, 46.7985624, 49.4871968, 54.7023545], \"legendgroup\": \"EU\", \"lon\": [13.199959, 2.3514616, 25.4856617, 15.4749544, 24.507544106789936, 1.8883335, 10.4234469, 21.9877132, -7.9794599, 12.674297, 21.7168387, 14.4476911, 5.7480821, 24.6859225, 97.7453061, -4.8380649, 8.2319736, 31.2718321, -3.2765753], \"marker\": {\"color\": \"#FFA15A\", \"size\": [9, 9, 29, 2, 16, 175, 10, 104, 6, 9, 83, 60, 17, 12, 423, 7, 10, 5, 62], \"sizemode\": \"area\", \"sizeref\": 2.0225}, \"name\": \"EU\", \"showlegend\": true, \"type\": \"scattergeo\"}, {\"geo\": \"geo\", \"hovertemplate\": \"<b>%{hovertext}</b><br><br>continent=NA<br>Fatalities=%{marker.size}<br>absturz-lat=%{lat}<br>absturz-lon=%{lon}<extra></extra>\", \"hovertext\": [\"CANADA\", \"COSTA RICA\", \"GUATEMALA\", \"HONDURAS\", \"MEXICO\", \"USA\"], \"lat\": [61.0666922, 45.22086405, 32.3293809, 15.2572432, 22.5000485, 39.7837304], \"legendgroup\": \"NA\", \"lon\": [-107.9917071, 10.037037979628856, -83.1137366, -86.0755145, -100.0000375, -100.4458825], \"marker\": {\"color\": \"#19d3f3\", \"size\": [77, 40, 11, 3, 80, 181], \"sizemode\": \"area\", \"sizeref\": 2.0225}, \"name\": \"NA\", \"showlegend\": true, \"type\": \"scattergeo\"}, {\"geo\": \"geo\", \"hovertemplate\": \"<b>%{hovertext}</b><br><br>continent=Unknown<br>Fatalities=%{marker.size}<br>absturz-lat=%{lat}<br>absturz-lon=%{lon}<extra></extra>\", \"hovertext\": [\"Congo (Brazzaville)\", \"EAST TIMOR\"], \"lat\": [6.402589949999999, -8.5151979], \"legendgroup\": \"Unknown\", \"lon\": [43.398382018489485, 125.8375756], \"marker\": {\"color\": \"#FF6692\", \"size\": [97, 6], \"sizemode\": \"area\", \"sizeref\": 2.0225}, \"name\": \"Unknown\", \"showlegend\": true, \"type\": \"scattergeo\"}],\n",
       "                        {\"geo\": {\"center\": {}, \"domain\": {\"x\": [0.0, 1.0], \"y\": [0.0, 1.0]}, \"projection\": {\"type\": \"natural earth\"}}, \"legend\": {\"itemsizing\": \"constant\", \"title\": {\"text\": \"continent\"}, \"tracegroupgap\": 0}, \"margin\": {\"t\": 60}, \"template\": {\"data\": {\"bar\": [{\"error_x\": {\"color\": \"#2a3f5f\"}, \"error_y\": {\"color\": \"#2a3f5f\"}, \"marker\": {\"line\": {\"color\": \"#E5ECF6\", \"width\": 0.5}}, \"type\": \"bar\"}], \"barpolar\": [{\"marker\": {\"line\": {\"color\": \"#E5ECF6\", \"width\": 0.5}}, \"type\": \"barpolar\"}], \"carpet\": [{\"aaxis\": {\"endlinecolor\": \"#2a3f5f\", \"gridcolor\": \"white\", \"linecolor\": \"white\", \"minorgridcolor\": \"white\", \"startlinecolor\": \"#2a3f5f\"}, \"baxis\": {\"endlinecolor\": \"#2a3f5f\", \"gridcolor\": \"white\", \"linecolor\": \"white\", \"minorgridcolor\": \"white\", \"startlinecolor\": \"#2a3f5f\"}, \"type\": \"carpet\"}], \"choropleth\": [{\"colorbar\": {\"outlinewidth\": 0, \"ticks\": \"\"}, \"type\": \"choropleth\"}], \"contour\": [{\"colorbar\": {\"outlinewidth\": 0, \"ticks\": \"\"}, \"colorscale\": [[0.0, \"#0d0887\"], [0.1111111111111111, \"#46039f\"], [0.2222222222222222, \"#7201a8\"], [0.3333333333333333, \"#9c179e\"], [0.4444444444444444, \"#bd3786\"], [0.5555555555555556, \"#d8576b\"], [0.6666666666666666, \"#ed7953\"], [0.7777777777777778, \"#fb9f3a\"], [0.8888888888888888, \"#fdca26\"], [1.0, \"#f0f921\"]], \"type\": \"contour\"}], \"contourcarpet\": [{\"colorbar\": {\"outlinewidth\": 0, \"ticks\": \"\"}, \"type\": \"contourcarpet\"}], \"heatmap\": [{\"colorbar\": {\"outlinewidth\": 0, \"ticks\": \"\"}, \"colorscale\": [[0.0, \"#0d0887\"], [0.1111111111111111, \"#46039f\"], [0.2222222222222222, \"#7201a8\"], [0.3333333333333333, \"#9c179e\"], [0.4444444444444444, \"#bd3786\"], [0.5555555555555556, \"#d8576b\"], [0.6666666666666666, \"#ed7953\"], [0.7777777777777778, \"#fb9f3a\"], [0.8888888888888888, \"#fdca26\"], [1.0, \"#f0f921\"]], \"type\": \"heatmap\"}], \"heatmapgl\": [{\"colorbar\": {\"outlinewidth\": 0, \"ticks\": \"\"}, \"colorscale\": [[0.0, \"#0d0887\"], [0.1111111111111111, \"#46039f\"], [0.2222222222222222, \"#7201a8\"], [0.3333333333333333, \"#9c179e\"], [0.4444444444444444, \"#bd3786\"], [0.5555555555555556, \"#d8576b\"], [0.6666666666666666, \"#ed7953\"], [0.7777777777777778, \"#fb9f3a\"], [0.8888888888888888, \"#fdca26\"], [1.0, \"#f0f921\"]], \"type\": \"heatmapgl\"}], \"histogram\": [{\"marker\": {\"colorbar\": {\"outlinewidth\": 0, \"ticks\": \"\"}}, \"type\": \"histogram\"}], \"histogram2d\": [{\"colorbar\": {\"outlinewidth\": 0, \"ticks\": \"\"}, \"colorscale\": [[0.0, \"#0d0887\"], [0.1111111111111111, \"#46039f\"], [0.2222222222222222, \"#7201a8\"], [0.3333333333333333, \"#9c179e\"], [0.4444444444444444, \"#bd3786\"], [0.5555555555555556, \"#d8576b\"], [0.6666666666666666, \"#ed7953\"], [0.7777777777777778, \"#fb9f3a\"], [0.8888888888888888, \"#fdca26\"], [1.0, \"#f0f921\"]], \"type\": \"histogram2d\"}], \"histogram2dcontour\": [{\"colorbar\": {\"outlinewidth\": 0, \"ticks\": \"\"}, \"colorscale\": [[0.0, \"#0d0887\"], [0.1111111111111111, \"#46039f\"], [0.2222222222222222, \"#7201a8\"], [0.3333333333333333, \"#9c179e\"], [0.4444444444444444, \"#bd3786\"], [0.5555555555555556, \"#d8576b\"], [0.6666666666666666, \"#ed7953\"], [0.7777777777777778, \"#fb9f3a\"], [0.8888888888888888, \"#fdca26\"], [1.0, \"#f0f921\"]], \"type\": \"histogram2dcontour\"}], \"mesh3d\": [{\"colorbar\": {\"outlinewidth\": 0, \"ticks\": \"\"}, \"type\": \"mesh3d\"}], \"parcoords\": [{\"line\": {\"colorbar\": {\"outlinewidth\": 0, \"ticks\": \"\"}}, \"type\": \"parcoords\"}], \"pie\": [{\"automargin\": true, \"type\": \"pie\"}], \"scatter\": [{\"marker\": {\"colorbar\": {\"outlinewidth\": 0, \"ticks\": \"\"}}, \"type\": \"scatter\"}], \"scatter3d\": [{\"line\": {\"colorbar\": {\"outlinewidth\": 0, \"ticks\": \"\"}}, \"marker\": {\"colorbar\": {\"outlinewidth\": 0, \"ticks\": \"\"}}, \"type\": \"scatter3d\"}], \"scattercarpet\": [{\"marker\": {\"colorbar\": {\"outlinewidth\": 0, \"ticks\": \"\"}}, \"type\": \"scattercarpet\"}], \"scattergeo\": [{\"marker\": {\"colorbar\": {\"outlinewidth\": 0, \"ticks\": \"\"}}, \"type\": \"scattergeo\"}], \"scattergl\": [{\"marker\": {\"colorbar\": {\"outlinewidth\": 0, \"ticks\": \"\"}}, \"type\": \"scattergl\"}], \"scattermapbox\": [{\"marker\": {\"colorbar\": {\"outlinewidth\": 0, \"ticks\": \"\"}}, \"type\": \"scattermapbox\"}], \"scatterpolar\": [{\"marker\": {\"colorbar\": {\"outlinewidth\": 0, \"ticks\": \"\"}}, \"type\": \"scatterpolar\"}], \"scatterpolargl\": [{\"marker\": {\"colorbar\": {\"outlinewidth\": 0, \"ticks\": \"\"}}, \"type\": \"scatterpolargl\"}], \"scatterternary\": [{\"marker\": {\"colorbar\": {\"outlinewidth\": 0, \"ticks\": \"\"}}, \"type\": \"scatterternary\"}], \"surface\": [{\"colorbar\": {\"outlinewidth\": 0, \"ticks\": \"\"}, \"colorscale\": [[0.0, \"#0d0887\"], [0.1111111111111111, \"#46039f\"], [0.2222222222222222, \"#7201a8\"], [0.3333333333333333, \"#9c179e\"], [0.4444444444444444, \"#bd3786\"], [0.5555555555555556, \"#d8576b\"], [0.6666666666666666, \"#ed7953\"], [0.7777777777777778, \"#fb9f3a\"], [0.8888888888888888, \"#fdca26\"], [1.0, \"#f0f921\"]], \"type\": \"surface\"}], \"table\": [{\"cells\": {\"fill\": {\"color\": \"#EBF0F8\"}, \"line\": {\"color\": \"white\"}}, \"header\": {\"fill\": {\"color\": \"#C8D4E3\"}, \"line\": {\"color\": \"white\"}}, \"type\": \"table\"}]}, \"layout\": {\"annotationdefaults\": {\"arrowcolor\": \"#2a3f5f\", \"arrowhead\": 0, \"arrowwidth\": 1}, \"coloraxis\": {\"colorbar\": {\"outlinewidth\": 0, \"ticks\": \"\"}}, \"colorscale\": {\"diverging\": [[0, \"#8e0152\"], [0.1, \"#c51b7d\"], [0.2, \"#de77ae\"], [0.3, \"#f1b6da\"], [0.4, \"#fde0ef\"], [0.5, \"#f7f7f7\"], [0.6, \"#e6f5d0\"], [0.7, \"#b8e186\"], [0.8, \"#7fbc41\"], [0.9, \"#4d9221\"], [1, \"#276419\"]], \"sequential\": [[0.0, \"#0d0887\"], [0.1111111111111111, \"#46039f\"], [0.2222222222222222, \"#7201a8\"], [0.3333333333333333, \"#9c179e\"], [0.4444444444444444, \"#bd3786\"], [0.5555555555555556, \"#d8576b\"], [0.6666666666666666, \"#ed7953\"], [0.7777777777777778, \"#fb9f3a\"], [0.8888888888888888, \"#fdca26\"], [1.0, \"#f0f921\"]], \"sequentialminus\": [[0.0, \"#0d0887\"], [0.1111111111111111, \"#46039f\"], [0.2222222222222222, \"#7201a8\"], [0.3333333333333333, \"#9c179e\"], [0.4444444444444444, \"#bd3786\"], [0.5555555555555556, \"#d8576b\"], [0.6666666666666666, \"#ed7953\"], [0.7777777777777778, \"#fb9f3a\"], [0.8888888888888888, \"#fdca26\"], [1.0, \"#f0f921\"]]}, \"colorway\": [\"#636efa\", \"#EF553B\", \"#00cc96\", \"#ab63fa\", \"#FFA15A\", \"#19d3f3\", \"#FF6692\", \"#B6E880\", \"#FF97FF\", \"#FECB52\"], \"font\": {\"color\": \"#2a3f5f\"}, \"geo\": {\"bgcolor\": \"white\", \"lakecolor\": \"white\", \"landcolor\": \"#E5ECF6\", \"showlakes\": true, \"showland\": true, \"subunitcolor\": \"white\"}, \"hoverlabel\": {\"align\": \"left\"}, \"hovermode\": \"closest\", \"mapbox\": {\"style\": \"light\"}, \"paper_bgcolor\": \"white\", \"plot_bgcolor\": \"#E5ECF6\", \"polar\": {\"angularaxis\": {\"gridcolor\": \"white\", \"linecolor\": \"white\", \"ticks\": \"\"}, \"bgcolor\": \"#E5ECF6\", \"radialaxis\": {\"gridcolor\": \"white\", \"linecolor\": \"white\", \"ticks\": \"\"}}, \"scene\": {\"xaxis\": {\"backgroundcolor\": \"#E5ECF6\", \"gridcolor\": \"white\", \"gridwidth\": 2, \"linecolor\": \"white\", \"showbackground\": true, \"ticks\": \"\", \"zerolinecolor\": \"white\"}, \"yaxis\": {\"backgroundcolor\": \"#E5ECF6\", \"gridcolor\": \"white\", \"gridwidth\": 2, \"linecolor\": \"white\", \"showbackground\": true, \"ticks\": \"\", \"zerolinecolor\": \"white\"}, \"zaxis\": {\"backgroundcolor\": \"#E5ECF6\", \"gridcolor\": \"white\", \"gridwidth\": 2, \"linecolor\": \"white\", \"showbackground\": true, \"ticks\": \"\", \"zerolinecolor\": \"white\"}}, \"shapedefaults\": {\"line\": {\"color\": \"#2a3f5f\"}}, \"ternary\": {\"aaxis\": {\"gridcolor\": \"white\", \"linecolor\": \"white\", \"ticks\": \"\"}, \"baxis\": {\"gridcolor\": \"white\", \"linecolor\": \"white\", \"ticks\": \"\"}, \"bgcolor\": \"#E5ECF6\", \"caxis\": {\"gridcolor\": \"white\", \"linecolor\": \"white\", \"ticks\": \"\"}}, \"title\": {\"x\": 0.05}, \"xaxis\": {\"automargin\": true, \"gridcolor\": \"white\", \"linecolor\": \"white\", \"ticks\": \"\", \"title\": {\"standoff\": 15}, \"zerolinecolor\": \"white\", \"zerolinewidth\": 2}, \"yaxis\": {\"automargin\": true, \"gridcolor\": \"white\", \"linecolor\": \"white\", \"ticks\": \"\", \"title\": {\"standoff\": 15}, \"zerolinecolor\": \"white\", \"zerolinewidth\": 2}}}, \"title\": {\"font\": {\"size\": 20}, \"text\": \"Airplane crash fatalities by country and continent\"}},\n",
       "                        {\"responsive\": true}\n",
       "                    ).then(function(){\n",
       "                            \n",
       "var gd = document.getElementById('3b463fc1-ec69-484e-ae16-15ee7b30895b');\n",
       "var x = new MutationObserver(function (mutations, observer) {{\n",
       "        var display = window.getComputedStyle(gd).display;\n",
       "        if (!display || display === 'none') {{\n",
       "            console.log([gd, 'removed!']);\n",
       "            Plotly.purge(gd);\n",
       "            observer.disconnect();\n",
       "        }}\n",
       "}});\n",
       "\n",
       "// Listen for the removal of the full notebook cells\n",
       "var notebookContainer = gd.closest('#notebook-container');\n",
       "if (notebookContainer) {{\n",
       "    x.observe(notebookContainer, {childList: true});\n",
       "}}\n",
       "\n",
       "// Listen for the clearing of the current output cell\n",
       "var outputEl = gd.closest('.output');\n",
       "if (outputEl) {{\n",
       "    x.observe(outputEl, {childList: true});\n",
       "}}\n",
       "\n",
       "                        })\n",
       "                };\n",
       "                });\n",
       "            </script>\n",
       "        </div>"
      ]
     },
     "metadata": {},
     "output_type": "display_data"
    }
   ],
   "source": [
    "import plotly.express as px\n",
    "\n",
    "fig = px.scatter_geo(df, lon=\"absturz-lon\", lat=\"absturz-lat\",\n",
    "                     color=\"continent\", # which column to use to set the color of markers\n",
    "                     hover_name=\"Absturzland\", # column added to hover information\n",
    "                     size=\"Fatalities\", # size of markers\n",
    "                     projection=\"natural earth\")\n",
    "fig.update_layout(title_text=\"Airplane crash fatalities by country and continent\",\n",
    "                  title_font_size=20)\n",
    "fig.show()"
   ]
  },
  {
   "cell_type": "code",
   "execution_count": 331,
   "metadata": {},
   "outputs": [
    {
     "data": {
      "application/vnd.plotly.v1+json": {
       "config": {
        "plotlyServerURL": "https://plot.ly"
       },
       "data": [
        {
         "hoverongaps": true,
         "type": "heatmap",
         "x": [
          1980,
          1981,
          1982,
          1983,
          1984,
          1985,
          1986,
          1987,
          1988,
          1989,
          1990,
          1991,
          1992,
          1993,
          1994,
          1995,
          1996,
          1997,
          1998,
          1999,
          2000,
          2001,
          2002,
          2003,
          2004,
          2005,
          2006,
          2007,
          2008,
          2009,
          2010,
          2011,
          2012,
          2013,
          2014,
          2015,
          2016,
          2017,
          2018,
          2019
         ],
         "y": [
          1,
          2,
          3,
          4,
          5,
          6,
          7,
          8,
          9,
          10,
          11,
          12
         ],
         "z": [
          [
           5,
           2,
           3,
           3,
           4,
           8,
           3,
           5,
           6,
           2,
           12,
           2,
           2,
           4,
           2,
           7,
           3,
           4,
           3,
           6,
           6,
           4,
           7,
           6,
           2,
           5,
           3,
           3,
           5,
           2,
           4,
           2,
           1,
           3,
           1,
           1,
           1,
           1,
           0,
           1
          ],
          [
           4,
           6,
           5,
           0,
           1,
           6,
           2,
           2,
           5,
           6,
           5,
           6,
           3,
           4,
           3,
           1,
           7,
           4,
           3,
           5,
           1,
           4,
           3,
           5,
           2,
           6,
           0,
           0,
           2,
           4,
           0,
           3,
           0,
           1,
           3,
           1,
           3,
           1,
           3,
           1
          ],
          [
           2,
           2,
           5,
           3,
           4,
           1,
           7,
           3,
           4,
           5,
           5,
           7,
           4,
           2,
           6,
           2,
           1,
           3,
           5,
           3,
           8,
           4,
           3,
           4,
           2,
           5,
           1,
           5,
           0,
           4,
           0,
           1,
           1,
           2,
           1,
           1,
           3,
           2,
           3,
           2
          ],
          [
           4,
           4,
           3,
           5,
           0,
           4,
           2,
           3,
           5,
           3,
           6,
           4,
           7,
           8,
           5,
           2,
           4,
           6,
           1,
           3,
           3,
           4,
           3,
           0,
           0,
           2,
           3,
           1,
           5,
           3,
           4,
           2,
           3,
           2,
           2,
           0,
           3,
           0,
           2,
           1
          ],
          [
           0,
           3,
           2,
           2,
           1,
           4,
           3,
           5,
           3,
           2,
           4,
           6,
           0,
           2,
           3,
           6,
           5,
           1,
           5,
           2,
           5,
           4,
           6,
           2,
           9,
           6,
           1,
           4,
           5,
           3,
           4,
           2,
           2,
           1,
           2,
           0,
           0,
           1,
           2,
           2
          ],
          [
           5,
           2,
           5,
           5,
           2,
           2,
           3,
           5,
           2,
           9,
           2,
           4,
           4,
           2,
           9,
           6,
           3,
           2,
           2,
           5,
           3,
           1,
           2,
           6,
           2,
           1,
           2,
           5,
           7,
           5,
           2,
           1,
           3,
           1,
           1,
           2,
           0,
           2,
           0,
           1
          ],
          [
           1,
           4,
           5,
           4,
           2,
           2,
           2,
           2,
           4,
           8,
           1,
           4,
           10,
           6,
           6,
           3,
           9,
           7,
           10,
           8,
           10,
           4,
           6,
           5,
           3,
           1,
           4,
           5,
           4,
           2,
           3,
           6,
           0,
           2,
           4,
           1,
           1,
           1,
           1,
           0
          ],
          [
           5,
           4,
           2,
           2,
           7,
           5,
           5,
           3,
           7,
           6,
           3,
           4,
           6,
           3,
           6,
           5,
           5,
           4,
           6,
           6,
           5,
           6,
           4,
           5,
           5,
           6,
           5,
           6,
           6,
           5,
           9,
           3,
           2,
           2,
           3,
           2,
           2,
           0,
           1,
           0
          ],
          [
           3,
           4,
           4,
           5,
           5,
           4,
           2,
           1,
           3,
           11,
           6,
           10,
           6,
           3,
           8,
           10,
           1,
           4,
           5,
           5,
           1,
           7,
           2,
           5,
           3,
           3,
           4,
           3,
           4,
           3,
           2,
           7,
           1,
           0,
           1,
           2,
           0,
           1,
           1,
           0
          ],
          [
           0,
           4,
           0,
           4,
           5,
           5,
           7,
           3,
           7,
           7,
           3,
           5,
           5,
           3,
           5,
           1,
           5,
           2,
           4,
           3,
           8,
           7,
           1,
           3,
           8,
           2,
           2,
           2,
           2,
           3,
           2,
           2,
           1,
           3,
           1,
           4,
           1,
           2,
           1,
           0
          ],
          [
           3,
           3,
           1,
           3,
           1,
           3,
           1,
           3,
           4,
           8,
           3,
           6,
           4,
           4,
           5,
           4,
           10,
           1,
           3,
           2,
           3,
           6,
           5,
           4,
           6,
           0,
           3,
           2,
           2,
           6,
           3,
           2,
           1,
           5,
           0,
           3,
           1,
           1,
           1,
           0
          ],
          [
           3,
           3,
           4,
           4,
           4,
           2,
           4,
           6,
           5,
           4,
           2,
           3,
           5,
           5,
           5,
           6,
           7,
           9,
           5,
           10,
           1,
           4,
           5,
           3,
           3,
           5,
           1,
           2,
           2,
           0,
           2,
           1,
           5,
           2,
           1,
           0,
           5,
           1,
           0,
           0
          ]
         ]
        }
       ],
       "layout": {
        "autosize": true,
        "template": {
         "data": {
          "bar": [
           {
            "error_x": {
             "color": "#2a3f5f"
            },
            "error_y": {
             "color": "#2a3f5f"
            },
            "marker": {
             "line": {
              "color": "#E5ECF6",
              "width": 0.5
             }
            },
            "type": "bar"
           }
          ],
          "barpolar": [
           {
            "marker": {
             "line": {
              "color": "#E5ECF6",
              "width": 0.5
             }
            },
            "type": "barpolar"
           }
          ],
          "carpet": [
           {
            "aaxis": {
             "endlinecolor": "#2a3f5f",
             "gridcolor": "white",
             "linecolor": "white",
             "minorgridcolor": "white",
             "startlinecolor": "#2a3f5f"
            },
            "baxis": {
             "endlinecolor": "#2a3f5f",
             "gridcolor": "white",
             "linecolor": "white",
             "minorgridcolor": "white",
             "startlinecolor": "#2a3f5f"
            },
            "type": "carpet"
           }
          ],
          "choropleth": [
           {
            "colorbar": {
             "outlinewidth": 0,
             "ticks": ""
            },
            "type": "choropleth"
           }
          ],
          "contour": [
           {
            "colorbar": {
             "outlinewidth": 0,
             "ticks": ""
            },
            "colorscale": [
             [
              0,
              "#0d0887"
             ],
             [
              0.1111111111111111,
              "#46039f"
             ],
             [
              0.2222222222222222,
              "#7201a8"
             ],
             [
              0.3333333333333333,
              "#9c179e"
             ],
             [
              0.4444444444444444,
              "#bd3786"
             ],
             [
              0.5555555555555556,
              "#d8576b"
             ],
             [
              0.6666666666666666,
              "#ed7953"
             ],
             [
              0.7777777777777778,
              "#fb9f3a"
             ],
             [
              0.8888888888888888,
              "#fdca26"
             ],
             [
              1,
              "#f0f921"
             ]
            ],
            "type": "contour"
           }
          ],
          "contourcarpet": [
           {
            "colorbar": {
             "outlinewidth": 0,
             "ticks": ""
            },
            "type": "contourcarpet"
           }
          ],
          "heatmap": [
           {
            "colorbar": {
             "outlinewidth": 0,
             "ticks": ""
            },
            "colorscale": [
             [
              0,
              "#0d0887"
             ],
             [
              0.1111111111111111,
              "#46039f"
             ],
             [
              0.2222222222222222,
              "#7201a8"
             ],
             [
              0.3333333333333333,
              "#9c179e"
             ],
             [
              0.4444444444444444,
              "#bd3786"
             ],
             [
              0.5555555555555556,
              "#d8576b"
             ],
             [
              0.6666666666666666,
              "#ed7953"
             ],
             [
              0.7777777777777778,
              "#fb9f3a"
             ],
             [
              0.8888888888888888,
              "#fdca26"
             ],
             [
              1,
              "#f0f921"
             ]
            ],
            "type": "heatmap"
           }
          ],
          "heatmapgl": [
           {
            "colorbar": {
             "outlinewidth": 0,
             "ticks": ""
            },
            "colorscale": [
             [
              0,
              "#0d0887"
             ],
             [
              0.1111111111111111,
              "#46039f"
             ],
             [
              0.2222222222222222,
              "#7201a8"
             ],
             [
              0.3333333333333333,
              "#9c179e"
             ],
             [
              0.4444444444444444,
              "#bd3786"
             ],
             [
              0.5555555555555556,
              "#d8576b"
             ],
             [
              0.6666666666666666,
              "#ed7953"
             ],
             [
              0.7777777777777778,
              "#fb9f3a"
             ],
             [
              0.8888888888888888,
              "#fdca26"
             ],
             [
              1,
              "#f0f921"
             ]
            ],
            "type": "heatmapgl"
           }
          ],
          "histogram": [
           {
            "marker": {
             "colorbar": {
              "outlinewidth": 0,
              "ticks": ""
             }
            },
            "type": "histogram"
           }
          ],
          "histogram2d": [
           {
            "colorbar": {
             "outlinewidth": 0,
             "ticks": ""
            },
            "colorscale": [
             [
              0,
              "#0d0887"
             ],
             [
              0.1111111111111111,
              "#46039f"
             ],
             [
              0.2222222222222222,
              "#7201a8"
             ],
             [
              0.3333333333333333,
              "#9c179e"
             ],
             [
              0.4444444444444444,
              "#bd3786"
             ],
             [
              0.5555555555555556,
              "#d8576b"
             ],
             [
              0.6666666666666666,
              "#ed7953"
             ],
             [
              0.7777777777777778,
              "#fb9f3a"
             ],
             [
              0.8888888888888888,
              "#fdca26"
             ],
             [
              1,
              "#f0f921"
             ]
            ],
            "type": "histogram2d"
           }
          ],
          "histogram2dcontour": [
           {
            "colorbar": {
             "outlinewidth": 0,
             "ticks": ""
            },
            "colorscale": [
             [
              0,
              "#0d0887"
             ],
             [
              0.1111111111111111,
              "#46039f"
             ],
             [
              0.2222222222222222,
              "#7201a8"
             ],
             [
              0.3333333333333333,
              "#9c179e"
             ],
             [
              0.4444444444444444,
              "#bd3786"
             ],
             [
              0.5555555555555556,
              "#d8576b"
             ],
             [
              0.6666666666666666,
              "#ed7953"
             ],
             [
              0.7777777777777778,
              "#fb9f3a"
             ],
             [
              0.8888888888888888,
              "#fdca26"
             ],
             [
              1,
              "#f0f921"
             ]
            ],
            "type": "histogram2dcontour"
           }
          ],
          "mesh3d": [
           {
            "colorbar": {
             "outlinewidth": 0,
             "ticks": ""
            },
            "type": "mesh3d"
           }
          ],
          "parcoords": [
           {
            "line": {
             "colorbar": {
              "outlinewidth": 0,
              "ticks": ""
             }
            },
            "type": "parcoords"
           }
          ],
          "pie": [
           {
            "automargin": true,
            "type": "pie"
           }
          ],
          "scatter": [
           {
            "marker": {
             "colorbar": {
              "outlinewidth": 0,
              "ticks": ""
             }
            },
            "type": "scatter"
           }
          ],
          "scatter3d": [
           {
            "line": {
             "colorbar": {
              "outlinewidth": 0,
              "ticks": ""
             }
            },
            "marker": {
             "colorbar": {
              "outlinewidth": 0,
              "ticks": ""
             }
            },
            "type": "scatter3d"
           }
          ],
          "scattercarpet": [
           {
            "marker": {
             "colorbar": {
              "outlinewidth": 0,
              "ticks": ""
             }
            },
            "type": "scattercarpet"
           }
          ],
          "scattergeo": [
           {
            "marker": {
             "colorbar": {
              "outlinewidth": 0,
              "ticks": ""
             }
            },
            "type": "scattergeo"
           }
          ],
          "scattergl": [
           {
            "marker": {
             "colorbar": {
              "outlinewidth": 0,
              "ticks": ""
             }
            },
            "type": "scattergl"
           }
          ],
          "scattermapbox": [
           {
            "marker": {
             "colorbar": {
              "outlinewidth": 0,
              "ticks": ""
             }
            },
            "type": "scattermapbox"
           }
          ],
          "scatterpolar": [
           {
            "marker": {
             "colorbar": {
              "outlinewidth": 0,
              "ticks": ""
             }
            },
            "type": "scatterpolar"
           }
          ],
          "scatterpolargl": [
           {
            "marker": {
             "colorbar": {
              "outlinewidth": 0,
              "ticks": ""
             }
            },
            "type": "scatterpolargl"
           }
          ],
          "scatterternary": [
           {
            "marker": {
             "colorbar": {
              "outlinewidth": 0,
              "ticks": ""
             }
            },
            "type": "scatterternary"
           }
          ],
          "surface": [
           {
            "colorbar": {
             "outlinewidth": 0,
             "ticks": ""
            },
            "colorscale": [
             [
              0,
              "#0d0887"
             ],
             [
              0.1111111111111111,
              "#46039f"
             ],
             [
              0.2222222222222222,
              "#7201a8"
             ],
             [
              0.3333333333333333,
              "#9c179e"
             ],
             [
              0.4444444444444444,
              "#bd3786"
             ],
             [
              0.5555555555555556,
              "#d8576b"
             ],
             [
              0.6666666666666666,
              "#ed7953"
             ],
             [
              0.7777777777777778,
              "#fb9f3a"
             ],
             [
              0.8888888888888888,
              "#fdca26"
             ],
             [
              1,
              "#f0f921"
             ]
            ],
            "type": "surface"
           }
          ],
          "table": [
           {
            "cells": {
             "fill": {
              "color": "#EBF0F8"
             },
             "line": {
              "color": "white"
             }
            },
            "header": {
             "fill": {
              "color": "#C8D4E3"
             },
             "line": {
              "color": "white"
             }
            },
            "type": "table"
           }
          ]
         },
         "layout": {
          "annotationdefaults": {
           "arrowcolor": "#2a3f5f",
           "arrowhead": 0,
           "arrowwidth": 1
          },
          "coloraxis": {
           "colorbar": {
            "outlinewidth": 0,
            "ticks": ""
           }
          },
          "colorscale": {
           "diverging": [
            [
             0,
             "#8e0152"
            ],
            [
             0.1,
             "#c51b7d"
            ],
            [
             0.2,
             "#de77ae"
            ],
            [
             0.3,
             "#f1b6da"
            ],
            [
             0.4,
             "#fde0ef"
            ],
            [
             0.5,
             "#f7f7f7"
            ],
            [
             0.6,
             "#e6f5d0"
            ],
            [
             0.7,
             "#b8e186"
            ],
            [
             0.8,
             "#7fbc41"
            ],
            [
             0.9,
             "#4d9221"
            ],
            [
             1,
             "#276419"
            ]
           ],
           "sequential": [
            [
             0,
             "#0d0887"
            ],
            [
             0.1111111111111111,
             "#46039f"
            ],
            [
             0.2222222222222222,
             "#7201a8"
            ],
            [
             0.3333333333333333,
             "#9c179e"
            ],
            [
             0.4444444444444444,
             "#bd3786"
            ],
            [
             0.5555555555555556,
             "#d8576b"
            ],
            [
             0.6666666666666666,
             "#ed7953"
            ],
            [
             0.7777777777777778,
             "#fb9f3a"
            ],
            [
             0.8888888888888888,
             "#fdca26"
            ],
            [
             1,
             "#f0f921"
            ]
           ],
           "sequentialminus": [
            [
             0,
             "#0d0887"
            ],
            [
             0.1111111111111111,
             "#46039f"
            ],
            [
             0.2222222222222222,
             "#7201a8"
            ],
            [
             0.3333333333333333,
             "#9c179e"
            ],
            [
             0.4444444444444444,
             "#bd3786"
            ],
            [
             0.5555555555555556,
             "#d8576b"
            ],
            [
             0.6666666666666666,
             "#ed7953"
            ],
            [
             0.7777777777777778,
             "#fb9f3a"
            ],
            [
             0.8888888888888888,
             "#fdca26"
            ],
            [
             1,
             "#f0f921"
            ]
           ]
          },
          "colorway": [
           "#636efa",
           "#EF553B",
           "#00cc96",
           "#ab63fa",
           "#FFA15A",
           "#19d3f3",
           "#FF6692",
           "#B6E880",
           "#FF97FF",
           "#FECB52"
          ],
          "font": {
           "color": "#2a3f5f"
          },
          "geo": {
           "bgcolor": "white",
           "lakecolor": "white",
           "landcolor": "#E5ECF6",
           "showlakes": true,
           "showland": true,
           "subunitcolor": "white"
          },
          "hoverlabel": {
           "align": "left"
          },
          "hovermode": "closest",
          "mapbox": {
           "style": "light"
          },
          "paper_bgcolor": "white",
          "plot_bgcolor": "#E5ECF6",
          "polar": {
           "angularaxis": {
            "gridcolor": "white",
            "linecolor": "white",
            "ticks": ""
           },
           "bgcolor": "#E5ECF6",
           "radialaxis": {
            "gridcolor": "white",
            "linecolor": "white",
            "ticks": ""
           }
          },
          "scene": {
           "xaxis": {
            "backgroundcolor": "#E5ECF6",
            "gridcolor": "white",
            "gridwidth": 2,
            "linecolor": "white",
            "showbackground": true,
            "ticks": "",
            "zerolinecolor": "white"
           },
           "yaxis": {
            "backgroundcolor": "#E5ECF6",
            "gridcolor": "white",
            "gridwidth": 2,
            "linecolor": "white",
            "showbackground": true,
            "ticks": "",
            "zerolinecolor": "white"
           },
           "zaxis": {
            "backgroundcolor": "#E5ECF6",
            "gridcolor": "white",
            "gridwidth": 2,
            "linecolor": "white",
            "showbackground": true,
            "ticks": "",
            "zerolinecolor": "white"
           }
          },
          "shapedefaults": {
           "line": {
            "color": "#2a3f5f"
           }
          },
          "ternary": {
           "aaxis": {
            "gridcolor": "white",
            "linecolor": "white",
            "ticks": ""
           },
           "baxis": {
            "gridcolor": "white",
            "linecolor": "white",
            "ticks": ""
           },
           "bgcolor": "#E5ECF6",
           "caxis": {
            "gridcolor": "white",
            "linecolor": "white",
            "ticks": ""
           }
          },
          "title": {
           "x": 0.05
          },
          "xaxis": {
           "automargin": true,
           "gridcolor": "white",
           "linecolor": "white",
           "ticks": "",
           "title": {
            "standoff": 15
           },
           "zerolinecolor": "white",
           "zerolinewidth": 2
          },
          "yaxis": {
           "automargin": true,
           "gridcolor": "white",
           "linecolor": "white",
           "ticks": "",
           "title": {
            "standoff": 15
           },
           "zerolinecolor": "white",
           "zerolinewidth": 2
          }
         }
        },
        "title": {
         "text": "Airplane crashes by Year and Month",
         "x": 0.5,
         "xanchor": "center",
         "y": 0.9,
         "yanchor": "top"
        },
        "xaxis": {
         "autorange": true,
         "range": [
          "1979-07-02",
          "2019-07-02 12:00"
         ],
         "rangeselector": {
          "buttons": [
           {
            "count": 20,
            "label": "20y",
            "step": "year",
            "stepmode": "backward"
           },
           {
            "count": 10,
            "label": "10y",
            "step": "year",
            "stepmode": "backward"
           },
           {
            "count": 5,
            "label": "5y",
            "step": "year",
            "stepmode": "backward"
           },
           {
            "step": "all"
           }
          ]
         },
         "rangeslider": {
          "autorange": true,
          "range": [
           "1979-07-02",
           "2019-07-02 12:00"
          ],
          "visible": true,
          "yaxis": {
           "_template": null,
           "rangemode": "match"
          }
         },
         "title": {
          "text": "Year"
         },
         "type": "date"
        },
        "yaxis": {
         "autorange": true,
         "dtick": 1,
         "range": [
          0.5,
          12.5
         ],
         "tick0": 1,
         "title": {
          "text": "Month"
         },
         "type": "linear"
        }
       }
      },
      "image/png": "[encoded data removed]",
      "text/html": [
       "<div>\n",
       "        \n",
       "        \n",
       "            <div id=\"5df33fa0-bcd6-4111-9ac2-a6d3a9818d90\" class=\"plotly-graph-div\" style=\"height:525px; width:100%;\"></div>\n",
       "            <script type=\"text/javascript\">\n",
       "                require([\"plotly\"], function(Plotly) {\n",
       "                    window.PLOTLYENV=window.PLOTLYENV || {};\n",
       "                    \n",
       "                if (document.getElementById(\"5df33fa0-bcd6-4111-9ac2-a6d3a9818d90\")) {\n",
       "                    Plotly.newPlot(\n",
       "                        '5df33fa0-bcd6-4111-9ac2-a6d3a9818d90',\n",
       "                        [{\"hoverongaps\": true, \"type\": \"heatmap\", \"x\": [1980, 1981, 1982, 1983, 1984, 1985, 1986, 1987, 1988, 1989, 1990, 1991, 1992, 1993, 1994, 1995, 1996, 1997, 1998, 1999, 2000, 2001, 2002, 2003, 2004, 2005, 2006, 2007, 2008, 2009, 2010, 2011, 2012, 2013, 2014, 2015, 2016, 2017, 2018, 2019], \"y\": [1, 2, 3, 4, 5, 6, 7, 8, 9, 10, 11, 12], \"z\": [[5, 2, 3, 3, 4, 8, 3, 5, 6, 2, 12, 2, 2, 4, 2, 7, 3, 4, 3, 6, 6, 4, 7, 6, 2, 5, 3, 3, 5, 2, 4, 2, 1, 3, 1, 1, 1, 1, 0, 1], [4, 6, 5, 0, 1, 6, 2, 2, 5, 6, 5, 6, 3, 4, 3, 1, 7, 4, 3, 5, 1, 4, 3, 5, 2, 6, 0, 0, 2, 4, 0, 3, 0, 1, 3, 1, 3, 1, 3, 1], [2, 2, 5, 3, 4, 1, 7, 3, 4, 5, 5, 7, 4, 2, 6, 2, 1, 3, 5, 3, 8, 4, 3, 4, 2, 5, 1, 5, 0, 4, 0, 1, 1, 2, 1, 1, 3, 2, 3, 2], [4, 4, 3, 5, 0, 4, 2, 3, 5, 3, 6, 4, 7, 8, 5, 2, 4, 6, 1, 3, 3, 4, 3, 0, 0, 2, 3, 1, 5, 3, 4, 2, 3, 2, 2, 0, 3, 0, 2, 1], [0, 3, 2, 2, 1, 4, 3, 5, 3, 2, 4, 6, 0, 2, 3, 6, 5, 1, 5, 2, 5, 4, 6, 2, 9, 6, 1, 4, 5, 3, 4, 2, 2, 1, 2, 0, 0, 1, 2, 2], [5, 2, 5, 5, 2, 2, 3, 5, 2, 9, 2, 4, 4, 2, 9, 6, 3, 2, 2, 5, 3, 1, 2, 6, 2, 1, 2, 5, 7, 5, 2, 1, 3, 1, 1, 2, 0, 2, 0, 1], [1, 4, 5, 4, 2, 2, 2, 2, 4, 8, 1, 4, 10, 6, 6, 3, 9, 7, 10, 8, 10, 4, 6, 5, 3, 1, 4, 5, 4, 2, 3, 6, 0, 2, 4, 1, 1, 1, 1, 0], [5, 4, 2, 2, 7, 5, 5, 3, 7, 6, 3, 4, 6, 3, 6, 5, 5, 4, 6, 6, 5, 6, 4, 5, 5, 6, 5, 6, 6, 5, 9, 3, 2, 2, 3, 2, 2, 0, 1, 0], [3, 4, 4, 5, 5, 4, 2, 1, 3, 11, 6, 10, 6, 3, 8, 10, 1, 4, 5, 5, 1, 7, 2, 5, 3, 3, 4, 3, 4, 3, 2, 7, 1, 0, 1, 2, 0, 1, 1, 0], [0, 4, 0, 4, 5, 5, 7, 3, 7, 7, 3, 5, 5, 3, 5, 1, 5, 2, 4, 3, 8, 7, 1, 3, 8, 2, 2, 2, 2, 3, 2, 2, 1, 3, 1, 4, 1, 2, 1, 0], [3, 3, 1, 3, 1, 3, 1, 3, 4, 8, 3, 6, 4, 4, 5, 4, 10, 1, 3, 2, 3, 6, 5, 4, 6, 0, 3, 2, 2, 6, 3, 2, 1, 5, 0, 3, 1, 1, 1, 0], [3, 3, 4, 4, 4, 2, 4, 6, 5, 4, 2, 3, 5, 5, 5, 6, 7, 9, 5, 10, 1, 4, 5, 3, 3, 5, 1, 2, 2, 0, 2, 1, 5, 2, 1, 0, 5, 1, 0, 0]]}],\n",
       "                        {\"template\": {\"data\": {\"bar\": [{\"error_x\": {\"color\": \"#2a3f5f\"}, \"error_y\": {\"color\": \"#2a3f5f\"}, \"marker\": {\"line\": {\"color\": \"#E5ECF6\", \"width\": 0.5}}, \"type\": \"bar\"}], \"barpolar\": [{\"marker\": {\"line\": {\"color\": \"#E5ECF6\", \"width\": 0.5}}, \"type\": \"barpolar\"}], \"carpet\": [{\"aaxis\": {\"endlinecolor\": \"#2a3f5f\", \"gridcolor\": \"white\", \"linecolor\": \"white\", \"minorgridcolor\": \"white\", \"startlinecolor\": \"#2a3f5f\"}, \"baxis\": {\"endlinecolor\": \"#2a3f5f\", \"gridcolor\": \"white\", \"linecolor\": \"white\", \"minorgridcolor\": \"white\", \"startlinecolor\": \"#2a3f5f\"}, \"type\": \"carpet\"}], \"choropleth\": [{\"colorbar\": {\"outlinewidth\": 0, \"ticks\": \"\"}, \"type\": \"choropleth\"}], \"contour\": [{\"colorbar\": {\"outlinewidth\": 0, \"ticks\": \"\"}, \"colorscale\": [[0.0, \"#0d0887\"], [0.1111111111111111, \"#46039f\"], [0.2222222222222222, \"#7201a8\"], [0.3333333333333333, \"#9c179e\"], [0.4444444444444444, \"#bd3786\"], [0.5555555555555556, \"#d8576b\"], [0.6666666666666666, \"#ed7953\"], [0.7777777777777778, \"#fb9f3a\"], [0.8888888888888888, \"#fdca26\"], [1.0, \"#f0f921\"]], \"type\": \"contour\"}], \"contourcarpet\": [{\"colorbar\": {\"outlinewidth\": 0, \"ticks\": \"\"}, \"type\": \"contourcarpet\"}], \"heatmap\": [{\"colorbar\": {\"outlinewidth\": 0, \"ticks\": \"\"}, \"colorscale\": [[0.0, \"#0d0887\"], [0.1111111111111111, \"#46039f\"], [0.2222222222222222, \"#7201a8\"], [0.3333333333333333, \"#9c179e\"], [0.4444444444444444, \"#bd3786\"], [0.5555555555555556, \"#d8576b\"], [0.6666666666666666, \"#ed7953\"], [0.7777777777777778, \"#fb9f3a\"], [0.8888888888888888, \"#fdca26\"], [1.0, \"#f0f921\"]], \"type\": \"heatmap\"}], \"heatmapgl\": [{\"colorbar\": {\"outlinewidth\": 0, \"ticks\": \"\"}, \"colorscale\": [[0.0, \"#0d0887\"], [0.1111111111111111, \"#46039f\"], [0.2222222222222222, \"#7201a8\"], [0.3333333333333333, \"#9c179e\"], [0.4444444444444444, \"#bd3786\"], [0.5555555555555556, \"#d8576b\"], [0.6666666666666666, \"#ed7953\"], [0.7777777777777778, \"#fb9f3a\"], [0.8888888888888888, \"#fdca26\"], [1.0, \"#f0f921\"]], \"type\": \"heatmapgl\"}], \"histogram\": [{\"marker\": {\"colorbar\": {\"outlinewidth\": 0, \"ticks\": \"\"}}, \"type\": \"histogram\"}], \"histogram2d\": [{\"colorbar\": {\"outlinewidth\": 0, \"ticks\": \"\"}, \"colorscale\": [[0.0, \"#0d0887\"], [0.1111111111111111, \"#46039f\"], [0.2222222222222222, \"#7201a8\"], [0.3333333333333333, \"#9c179e\"], [0.4444444444444444, \"#bd3786\"], [0.5555555555555556, \"#d8576b\"], [0.6666666666666666, \"#ed7953\"], [0.7777777777777778, \"#fb9f3a\"], [0.8888888888888888, \"#fdca26\"], [1.0, \"#f0f921\"]], \"type\": \"histogram2d\"}], \"histogram2dcontour\": [{\"colorbar\": {\"outlinewidth\": 0, \"ticks\": \"\"}, \"colorscale\": [[0.0, \"#0d0887\"], [0.1111111111111111, \"#46039f\"], [0.2222222222222222, \"#7201a8\"], [0.3333333333333333, \"#9c179e\"], [0.4444444444444444, \"#bd3786\"], [0.5555555555555556, \"#d8576b\"], [0.6666666666666666, \"#ed7953\"], [0.7777777777777778, \"#fb9f3a\"], [0.8888888888888888, \"#fdca26\"], [1.0, \"#f0f921\"]], \"type\": \"histogram2dcontour\"}], \"mesh3d\": [{\"colorbar\": {\"outlinewidth\": 0, \"ticks\": \"\"}, \"type\": \"mesh3d\"}], \"parcoords\": [{\"line\": {\"colorbar\": {\"outlinewidth\": 0, \"ticks\": \"\"}}, \"type\": \"parcoords\"}], \"pie\": [{\"automargin\": true, \"type\": \"pie\"}], \"scatter\": [{\"marker\": {\"colorbar\": {\"outlinewidth\": 0, \"ticks\": \"\"}}, \"type\": \"scatter\"}], \"scatter3d\": [{\"line\": {\"colorbar\": {\"outlinewidth\": 0, \"ticks\": \"\"}}, \"marker\": {\"colorbar\": {\"outlinewidth\": 0, \"ticks\": \"\"}}, \"type\": \"scatter3d\"}], \"scattercarpet\": [{\"marker\": {\"colorbar\": {\"outlinewidth\": 0, \"ticks\": \"\"}}, \"type\": \"scattercarpet\"}], \"scattergeo\": [{\"marker\": {\"colorbar\": {\"outlinewidth\": 0, \"ticks\": \"\"}}, \"type\": \"scattergeo\"}], \"scattergl\": [{\"marker\": {\"colorbar\": {\"outlinewidth\": 0, \"ticks\": \"\"}}, \"type\": \"scattergl\"}], \"scattermapbox\": [{\"marker\": {\"colorbar\": {\"outlinewidth\": 0, \"ticks\": \"\"}}, \"type\": \"scattermapbox\"}], \"scatterpolar\": [{\"marker\": {\"colorbar\": {\"outlinewidth\": 0, \"ticks\": \"\"}}, \"type\": \"scatterpolar\"}], \"scatterpolargl\": [{\"marker\": {\"colorbar\": {\"outlinewidth\": 0, \"ticks\": \"\"}}, \"type\": \"scatterpolargl\"}], \"scatterternary\": [{\"marker\": {\"colorbar\": {\"outlinewidth\": 0, \"ticks\": \"\"}}, \"type\": \"scatterternary\"}], \"surface\": [{\"colorbar\": {\"outlinewidth\": 0, \"ticks\": \"\"}, \"colorscale\": [[0.0, \"#0d0887\"], [0.1111111111111111, \"#46039f\"], [0.2222222222222222, \"#7201a8\"], [0.3333333333333333, \"#9c179e\"], [0.4444444444444444, \"#bd3786\"], [0.5555555555555556, \"#d8576b\"], [0.6666666666666666, \"#ed7953\"], [0.7777777777777778, \"#fb9f3a\"], [0.8888888888888888, \"#fdca26\"], [1.0, \"#f0f921\"]], \"type\": \"surface\"}], \"table\": [{\"cells\": {\"fill\": {\"color\": \"#EBF0F8\"}, \"line\": {\"color\": \"white\"}}, \"header\": {\"fill\": {\"color\": \"#C8D4E3\"}, \"line\": {\"color\": \"white\"}}, \"type\": \"table\"}]}, \"layout\": {\"annotationdefaults\": {\"arrowcolor\": \"#2a3f5f\", \"arrowhead\": 0, \"arrowwidth\": 1}, \"coloraxis\": {\"colorbar\": {\"outlinewidth\": 0, \"ticks\": \"\"}}, \"colorscale\": {\"diverging\": [[0, \"#8e0152\"], [0.1, \"#c51b7d\"], [0.2, \"#de77ae\"], [0.3, \"#f1b6da\"], [0.4, \"#fde0ef\"], [0.5, \"#f7f7f7\"], [0.6, \"#e6f5d0\"], [0.7, \"#b8e186\"], [0.8, \"#7fbc41\"], [0.9, \"#4d9221\"], [1, \"#276419\"]], \"sequential\": [[0.0, \"#0d0887\"], [0.1111111111111111, \"#46039f\"], [0.2222222222222222, \"#7201a8\"], [0.3333333333333333, \"#9c179e\"], [0.4444444444444444, \"#bd3786\"], [0.5555555555555556, \"#d8576b\"], [0.6666666666666666, \"#ed7953\"], [0.7777777777777778, \"#fb9f3a\"], [0.8888888888888888, \"#fdca26\"], [1.0, \"#f0f921\"]], \"sequentialminus\": [[0.0, \"#0d0887\"], [0.1111111111111111, \"#46039f\"], [0.2222222222222222, \"#7201a8\"], [0.3333333333333333, \"#9c179e\"], [0.4444444444444444, \"#bd3786\"], [0.5555555555555556, \"#d8576b\"], [0.6666666666666666, \"#ed7953\"], [0.7777777777777778, \"#fb9f3a\"], [0.8888888888888888, \"#fdca26\"], [1.0, \"#f0f921\"]]}, \"colorway\": [\"#636efa\", \"#EF553B\", \"#00cc96\", \"#ab63fa\", \"#FFA15A\", \"#19d3f3\", \"#FF6692\", \"#B6E880\", \"#FF97FF\", \"#FECB52\"], \"font\": {\"color\": \"#2a3f5f\"}, \"geo\": {\"bgcolor\": \"white\", \"lakecolor\": \"white\", \"landcolor\": \"#E5ECF6\", \"showlakes\": true, \"showland\": true, \"subunitcolor\": \"white\"}, \"hoverlabel\": {\"align\": \"left\"}, \"hovermode\": \"closest\", \"mapbox\": {\"style\": \"light\"}, \"paper_bgcolor\": \"white\", \"plot_bgcolor\": \"#E5ECF6\", \"polar\": {\"angularaxis\": {\"gridcolor\": \"white\", \"linecolor\": \"white\", \"ticks\": \"\"}, \"bgcolor\": \"#E5ECF6\", \"radialaxis\": {\"gridcolor\": \"white\", \"linecolor\": \"white\", \"ticks\": \"\"}}, \"scene\": {\"xaxis\": {\"backgroundcolor\": \"#E5ECF6\", \"gridcolor\": \"white\", \"gridwidth\": 2, \"linecolor\": \"white\", \"showbackground\": true, \"ticks\": \"\", \"zerolinecolor\": \"white\"}, \"yaxis\": {\"backgroundcolor\": \"#E5ECF6\", \"gridcolor\": \"white\", \"gridwidth\": 2, \"linecolor\": \"white\", \"showbackground\": true, \"ticks\": \"\", \"zerolinecolor\": \"white\"}, \"zaxis\": {\"backgroundcolor\": \"#E5ECF6\", \"gridcolor\": \"white\", \"gridwidth\": 2, \"linecolor\": \"white\", \"showbackground\": true, \"ticks\": \"\", \"zerolinecolor\": \"white\"}}, \"shapedefaults\": {\"line\": {\"color\": \"#2a3f5f\"}}, \"ternary\": {\"aaxis\": {\"gridcolor\": \"white\", \"linecolor\": \"white\", \"ticks\": \"\"}, \"baxis\": {\"gridcolor\": \"white\", \"linecolor\": \"white\", \"ticks\": \"\"}, \"bgcolor\": \"#E5ECF6\", \"caxis\": {\"gridcolor\": \"white\", \"linecolor\": \"white\", \"ticks\": \"\"}}, \"title\": {\"x\": 0.05}, \"xaxis\": {\"automargin\": true, \"gridcolor\": \"white\", \"linecolor\": \"white\", \"ticks\": \"\", \"title\": {\"standoff\": 15}, \"zerolinecolor\": \"white\", \"zerolinewidth\": 2}, \"yaxis\": {\"automargin\": true, \"gridcolor\": \"white\", \"linecolor\": \"white\", \"ticks\": \"\", \"title\": {\"standoff\": 15}, \"zerolinecolor\": \"white\", \"zerolinewidth\": 2}}}, \"title\": {\"text\": \"Airplane crashes by Year and Month\", \"x\": 0.5, \"xanchor\": \"center\", \"y\": 0.9, \"yanchor\": \"top\"}, \"xaxis\": {\"rangeselector\": {\"buttons\": [{\"count\": 20, \"label\": \"20y\", \"step\": \"year\", \"stepmode\": \"backward\"}, {\"count\": 10, \"label\": \"10y\", \"step\": \"year\", \"stepmode\": \"backward\"}, {\"count\": 5, \"label\": \"5y\", \"step\": \"year\", \"stepmode\": \"backward\"}, {\"step\": \"all\"}]}, \"rangeslider\": {\"visible\": true}, \"title\": {\"text\": \"Year\"}, \"type\": \"date\"}, \"yaxis\": {\"dtick\": 1, \"tick0\": 1, \"title\": {\"text\": \"Month\"}}},\n",
       "                        {\"responsive\": true}\n",
       "                    ).then(function(){\n",
       "                            \n",
       "var gd = document.getElementById('5df33fa0-bcd6-4111-9ac2-a6d3a9818d90');\n",
       "var x = new MutationObserver(function (mutations, observer) {{\n",
       "        var display = window.getComputedStyle(gd).display;\n",
       "        if (!display || display === 'none') {{\n",
       "            console.log([gd, 'removed!']);\n",
       "            Plotly.purge(gd);\n",
       "            observer.disconnect();\n",
       "        }}\n",
       "}});\n",
       "\n",
       "// Listen for the removal of the full notebook cells\n",
       "var notebookContainer = gd.closest('#notebook-container');\n",
       "if (notebookContainer) {{\n",
       "    x.observe(notebookContainer, {childList: true});\n",
       "}}\n",
       "\n",
       "// Listen for the clearing of the current output cell\n",
       "var outputEl = gd.closest('.output');\n",
       "if (outputEl) {{\n",
       "    x.observe(outputEl, {childList: true});\n",
       "}}\n",
       "\n",
       "                        })\n",
       "                };\n",
       "                });\n",
       "            </script>\n",
       "        </div>"
      ]
     },
     "metadata": {},
     "output_type": "display_data"
    }
   ],
   "source": [
    "df_4 = pd.read_csv(\"./data/flight_crashed_output.csv\", usecols=['Date'])\n",
    "df_4[\"Date\"]=pd.to_datetime(df_4[\"Date\"], format=\"%d.%m.%Y\")\n",
    "df_4['Year'] = df_4.Date.dt.year\n",
    "df_4['Month'] = df_4.Date.dt.month\n",
    "df_4 = df_4.drop('Date', 1)\n",
    "df_4 = df_4.pivot_table(index='Month', columns='Year', values='Month', aggfunc=len, fill_value=0)\n",
    "\n",
    "import plotly.graph_objects as go\n",
    "\n",
    "fig = go.Figure(data=go.Heatmap(\n",
    "                   z=df_4,\n",
    "                   x=df_4.columns,\n",
    "                   y=df_4.index,\n",
    "                   hoverongaps = True),\n",
    "                   layout=go.Layout(\n",
    "                       title=\n",
    "                       {'text':\"Airplane crashes by Year and Month\",\n",
    "                       'xanchor': 'center',\n",
    "                        'yanchor': 'top',\n",
    "                        'y':0.9,\n",
    "                        'x':0.5,\n",
    "                       },\n",
    "                       xaxis_title=\"Year\",\n",
    "                       yaxis_title=\"Month\")\n",
    "               )\n",
    "\n",
    "fig.update_layout(\n",
    "    xaxis=dict(\n",
    "        rangeselector=dict(\n",
    "            buttons=list([\n",
    "                dict(count=20,\n",
    "                     label=\"20y\",\n",
    "                     step=\"year\",\n",
    "                     stepmode=\"backward\"),\n",
    "                dict(count=10,\n",
    "                     label=\"10y\",\n",
    "                     step=\"year\",\n",
    "                     stepmode=\"backward\"),\n",
    "                dict(count=5,\n",
    "                     label=\"5y\",\n",
    "                     step=\"year\",\n",
    "                     stepmode=\"backward\"),\n",
    "                dict(step=\"all\")\n",
    "            ])\n",
    "        ),\n",
    "        rangeslider=dict(\n",
    "            visible=True\n",
    "        ),\n",
    "        type=\"date\"\n",
    "    )\n",
    ")\n",
    "fig.update_yaxes(tick0=1, dtick=1)\n",
    "fig.show()"
   ]
  },
  {
   "cell_type": "code",
   "execution_count": null,
   "metadata": {},
   "outputs": [],
   "source": []
  }
 ],
 "metadata": {
  "kernelspec": {
   "display_name": "Python 3",
   "language": "python",
   "name": "python3"
  },
  "language_info": {
   "codemirror_mode": {
    "name": "ipython",
    "version": 3
   },
   "file_extension": ".py",
   "mimetype": "text/x-python",
   "name": "python",
   "nbconvert_exporter": "python",
   "pygments_lexer": "ipython3",
   "version": "3.7.4"
  }
 },
 "nbformat": 4,
 "nbformat_minor": 4
}
